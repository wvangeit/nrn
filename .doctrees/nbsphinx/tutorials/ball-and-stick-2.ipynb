{
 "cells": [
  {
   "cell_type": "markdown",
   "metadata": {},
   "source": [
    "# Ball and stick 2: Build a ring network of ball-and-stick cells"
   ]
  },
  {
   "cell_type": "markdown",
   "metadata": {},
   "source": [
    "This page is the second in a series where we build a multicompartment cell and evolve it into a network of cells running on a parallel machine. In this page, we build a ring network of ball-and-stick cells created in the previous page. In this case, we make N cells where cell n makes an excitatory synapse onto cell n + 1 and the last, Nth cell in the network projects to the first cell. We will drive the first cell and visualize the spikes of the network.\n",
    "\n",
    "In practice, you will likely want to separate the specification of the cell type and the use of that cell type into separate files, but we'll ignore that here."
   ]
  },
  {
   "cell_type": "markdown",
   "metadata": {},
   "source": [
    "## Generic cell class\n",
    "<p>We'll begin by splitting the BallAndStick class into two parts: a generic Cell class and that which is specific to the BallAndStick model. This will allow us to focus our attention on the parts that we're working on and to make code that we can reuse later.</p>"
   ]
  },
  {
   "cell_type": "markdown",
   "metadata": {},
   "source": [
    "First, we load the NEURON library, of course; we'll load NEURON's built-in graphics library as well to allow visual inspection of the sizes of the diameters."
   ]
  },
  {
   "cell_type": "code",
   "execution_count": 1,
   "metadata": {
    "execution": {
     "iopub.execute_input": "2024-03-22T10:49:48.612981Z",
     "iopub.status.busy": "2024-03-22T10:49:48.612423Z",
     "iopub.status.idle": "2024-03-22T10:49:48.725100Z",
     "shell.execute_reply": "2024-03-22T10:49:48.724520Z"
    }
   },
   "outputs": [],
   "source": [
    "from neuron import h, gui\n",
    "from neuron.units import ms, mV"
   ]
  },
  {
   "cell_type": "markdown",
   "metadata": {},
   "source": [
    "We will also want to use NEURON's standard run library, so let's go ahead and load that too:"
   ]
  },
  {
   "cell_type": "code",
   "execution_count": 2,
   "metadata": {
    "execution": {
     "iopub.execute_input": "2024-03-22T10:49:48.730873Z",
     "iopub.status.busy": "2024-03-22T10:49:48.729417Z",
     "iopub.status.idle": "2024-03-22T10:49:48.737891Z",
     "shell.execute_reply": "2024-03-22T10:49:48.737417Z"
    }
   },
   "outputs": [
    {
     "data": {
      "text/plain": [
       "1.0"
      ]
     },
     "execution_count": 2,
     "metadata": {},
     "output_type": "execute_result"
    }
   ],
   "source": [
    "h.load_file(\"stdrun.hoc\")"
   ]
  },
  {
   "cell_type": "markdown",
   "metadata": {},
   "source": [
    "The generic Cell class (we'll expand this later):"
   ]
  },
  {
   "cell_type": "code",
   "execution_count": 3,
   "metadata": {
    "execution": {
     "iopub.execute_input": "2024-03-22T10:49:48.742350Z",
     "iopub.status.busy": "2024-03-22T10:49:48.741409Z",
     "iopub.status.idle": "2024-03-22T10:49:48.745047Z",
     "shell.execute_reply": "2024-03-22T10:49:48.744590Z"
    }
   },
   "outputs": [],
   "source": [
    "class Cell:\n",
    "    def __init__(self, gid):\n",
    "        self._gid = gid\n",
    "        self._setup_morphology()\n",
    "        self.all = self.soma.wholetree()\n",
    "        self._setup_biophysics()\n",
    "\n",
    "    def __repr__(self):\n",
    "        return \"{}[{}]\".format(self.name, self._gid)"
   ]
  },
  {
   "cell_type": "markdown",
   "metadata": {},
   "source": [
    "And the BallAndStick class:"
   ]
  },
  {
   "cell_type": "code",
   "execution_count": 4,
   "metadata": {
    "execution": {
     "iopub.execute_input": "2024-03-22T10:49:48.747685Z",
     "iopub.status.busy": "2024-03-22T10:49:48.747275Z",
     "iopub.status.idle": "2024-03-22T10:49:48.753111Z",
     "shell.execute_reply": "2024-03-22T10:49:48.751673Z"
    }
   },
   "outputs": [],
   "source": [
    "class BallAndStick(Cell):\n",
    "    name = \"BallAndStick\"\n",
    "\n",
    "    def _setup_morphology(self):\n",
    "        self.soma = h.Section(name=\"soma\", cell=self)\n",
    "        self.dend = h.Section(name=\"dend\", cell=self)\n",
    "        self.dend.connect(self.soma)\n",
    "        self.soma.L = self.soma.diam = 12.6157\n",
    "        self.dend.L = 200\n",
    "        self.dend.diam = 1\n",
    "\n",
    "    def _setup_biophysics(self):\n",
    "        for sec in self.all:\n",
    "            sec.Ra = 100  # Axial resistance in Ohm * cm\n",
    "            sec.cm = 1  # Membrane capacitance in micro Farads / cm^2\n",
    "        self.soma.insert(\"hh\")\n",
    "        for seg in self.soma:\n",
    "            seg.hh.gnabar = 0.12  # Sodium conductance in S/cm2\n",
    "            seg.hh.gkbar = 0.036  # Potassium conductance in S/cm2\n",
    "            seg.hh.gl = 0.0003  # Leak conductance in S/cm2\n",
    "            seg.hh.el = -54.3  # Reversal potential in mV\n",
    "        # Insert passive current in the dendrite\n",
    "        self.dend.insert(\"pas\")\n",
    "        for seg in self.dend:\n",
    "            seg.pas.g = 0.001  # Passive conductance in S/cm2\n",
    "            seg.pas.e = -65  # Leak reversal potential mV"
   ]
  },
  {
   "cell_type": "markdown",
   "metadata": {},
   "source": [
    "The only changes to the BallAndStick definition are the removal of the `__init__` and `__repr__` methods, the specification of the <tt>name</tt> of the class, the removal of the definition of <tt>self.all</tt> (now handled by the <tt>Cell</tt> class), and the change to the class declaration (the very first line) to indicate that <tt>BallAndStick</tt> is a type of <tt>Cell</tt>."
   ]
  },
  {
   "cell_type": "markdown",
   "metadata": {},
   "source": [
    "## Adjusting position and orientation"
   ]
  },
  {
   "cell_type": "markdown",
   "metadata": {},
   "source": [
    "When we have more than one cell, we'd like to be able to position them so that we can see them clearly. We'll introduce new methods `_set_position` and `_rotate_z` to the Cell class to allow us to do this:"
   ]
  },
  {
   "cell_type": "code",
   "execution_count": 5,
   "metadata": {
    "execution": {
     "iopub.execute_input": "2024-03-22T10:49:48.755557Z",
     "iopub.status.busy": "2024-03-22T10:49:48.755234Z",
     "iopub.status.idle": "2024-03-22T10:49:48.761962Z",
     "shell.execute_reply": "2024-03-22T10:49:48.761459Z"
    }
   },
   "outputs": [],
   "source": [
    "class Cell:\n",
    "    def __init__(self, gid, x, y, z, theta):\n",
    "        self._gid = gid\n",
    "        self._setup_morphology()\n",
    "        self.all = self.soma.wholetree()\n",
    "        self._setup_biophysics()\n",
    "        self.x = self.y = self.z = 0  # <-- NEW\n",
    "        h.define_shape()\n",
    "        self._rotate_z(theta)  # <-- NEW\n",
    "        self._set_position(x, y, z)  # <-- NEW\n",
    "\n",
    "    def __repr__(self):\n",
    "        return \"{}[{}]\".format(self.name, self._gid)\n",
    "\n",
    "    # everything below here is NEW\n",
    "\n",
    "    def _set_position(self, x, y, z):\n",
    "        for sec in self.all:\n",
    "            for i in range(sec.n3d()):\n",
    "                sec.pt3dchange(\n",
    "                    i,\n",
    "                    x - self.x + sec.x3d(i),\n",
    "                    y - self.y + sec.y3d(i),\n",
    "                    z - self.z + sec.z3d(i),\n",
    "                    sec.diam3d(i),\n",
    "                )\n",
    "        self.x, self.y, self.z = x, y, z\n",
    "\n",
    "    def _rotate_z(self, theta):\n",
    "        \"\"\"Rotate the cell about the Z axis.\"\"\"\n",
    "        for sec in self.all:\n",
    "            for i in range(sec.n3d()):\n",
    "                x = sec.x3d(i)\n",
    "                y = sec.y3d(i)\n",
    "                c = h.cos(theta)\n",
    "                s = h.sin(theta)\n",
    "                xprime = x * c - y * s\n",
    "                yprime = x * s + y * c\n",
    "                sec.pt3dchange(i, xprime, yprime, sec.z3d(i), sec.diam3d(i))"
   ]
  },
  {
   "cell_type": "markdown",
   "metadata": {},
   "source": [
    "If you are writing a script to do this, and revising the classes as we make changes, everything should be good. If you are following along in a Jupyter notebook, you will need to rerun the definition of BallAndStick above for the changes to take effect:"
   ]
  },
  {
   "cell_type": "code",
   "execution_count": 6,
   "metadata": {
    "execution": {
     "iopub.execute_input": "2024-03-22T10:49:48.764089Z",
     "iopub.status.busy": "2024-03-22T10:49:48.763915Z",
     "iopub.status.idle": "2024-03-22T10:49:48.768698Z",
     "shell.execute_reply": "2024-03-22T10:49:48.768135Z"
    }
   },
   "outputs": [],
   "source": [
    "## Run only for jupyter\n",
    "class BallAndStick(Cell):\n",
    "    name = \"BallAndStick\"\n",
    "\n",
    "    def _setup_morphology(self):\n",
    "        self.soma = h.Section(name=\"soma\", cell=self)\n",
    "        self.dend = h.Section(name=\"dend\", cell=self)\n",
    "        self.dend.connect(self.soma)\n",
    "        self.soma.L = self.soma.diam = 12.6157\n",
    "        self.dend.L = 200\n",
    "        self.dend.diam = 1\n",
    "\n",
    "    def _setup_biophysics(self):\n",
    "        for sec in self.all:\n",
    "            sec.Ra = 100  # Axial resistance in Ohm * cm\n",
    "            sec.cm = 1  # Membrane capacitance in micro Farads / cm^2\n",
    "        self.soma.insert(\"hh\")\n",
    "        for seg in self.soma:\n",
    "            seg.hh.gnabar = 0.12  # Sodium conductance in S/cm2\n",
    "            seg.hh.gkbar = 0.036  # Potassium conductance in S/cm2\n",
    "            seg.hh.gl = 0.0003  # Leak conductance in S/cm2\n",
    "            seg.hh.el = -54.3  # Reversal potential in mV\n",
    "        # Insert passive current in the dendrite\n",
    "        self.dend.insert(\"pas\")\n",
    "        for seg in self.dend:\n",
    "            seg.pas.g = 0.001  # Passive conductance in S/cm2\n",
    "            seg.pas.e = -65  # Leak reversal potential mV"
   ]
  },
  {
   "cell_type": "markdown",
   "metadata": {},
   "source": [
    "Let's create a test cell. Note that we now have to specify `x`, `y`, `z`, and `theta` in addition to the `gid`."
   ]
  },
  {
   "cell_type": "code",
   "execution_count": 7,
   "metadata": {
    "execution": {
     "iopub.execute_input": "2024-03-22T10:49:48.770881Z",
     "iopub.status.busy": "2024-03-22T10:49:48.770705Z",
     "iopub.status.idle": "2024-03-22T10:49:48.773730Z",
     "shell.execute_reply": "2024-03-22T10:49:48.773223Z"
    }
   },
   "outputs": [],
   "source": [
    "mycell = BallAndStick(0, 0, 0, 0, 0)"
   ]
  },
  {
   "cell_type": "markdown",
   "metadata": {},
   "source": [
    "If you got a `TypeError`, that means you did not rerun the definition of BallAndStick. Go back and do that and then the above should work."
   ]
  },
  {
   "cell_type": "markdown",
   "metadata": {},
   "source": [
    "We no longer need the test cell, so let's delete it:"
   ]
  },
  {
   "cell_type": "code",
   "execution_count": 8,
   "metadata": {
    "execution": {
     "iopub.execute_input": "2024-03-22T10:49:48.775923Z",
     "iopub.status.busy": "2024-03-22T10:49:48.775748Z",
     "iopub.status.idle": "2024-03-22T10:49:48.778503Z",
     "shell.execute_reply": "2024-03-22T10:49:48.777946Z"
    }
   },
   "outputs": [],
   "source": [
    "del mycell"
   ]
  },
  {
   "cell_type": "markdown",
   "metadata": {},
   "source": [
    "## Construct and position our cells"
   ]
  },
  {
   "cell_type": "markdown",
   "metadata": {},
   "source": [
    "We want to construct an arbitrary number of cells and position them in a circle. For the sake of reusability, we'll make a function that takes two parameters: `N`, the number of cells, and `r` the radius of the circle (in microns). This function will return a list of `N` cells centered around the origin on the XY plane:"
   ]
  },
  {
   "cell_type": "code",
   "execution_count": 9,
   "metadata": {
    "execution": {
     "iopub.execute_input": "2024-03-22T10:49:48.780682Z",
     "iopub.status.busy": "2024-03-22T10:49:48.780512Z",
     "iopub.status.idle": "2024-03-22T10:49:48.783873Z",
     "shell.execute_reply": "2024-03-22T10:49:48.783254Z"
    }
   },
   "outputs": [],
   "source": [
    "def create_n_BallAndStick(n, r):\n",
    "    \"\"\"n = number of cells; r = radius of circle\"\"\"\n",
    "    cells = []\n",
    "    for i in range(n):\n",
    "        theta = i * 2 * h.PI / n\n",
    "        cells.append(BallAndStick(i, h.cos(theta) * r, h.sin(theta) * r, 0, theta))\n",
    "    return cells"
   ]
  },
  {
   "cell_type": "markdown",
   "metadata": {},
   "source": [
    "Let's create 7 cells with r = 50 microns:"
   ]
  },
  {
   "cell_type": "code",
   "execution_count": 10,
   "metadata": {
    "execution": {
     "iopub.execute_input": "2024-03-22T10:49:48.786169Z",
     "iopub.status.busy": "2024-03-22T10:49:48.785770Z",
     "iopub.status.idle": "2024-03-22T10:49:48.789458Z",
     "shell.execute_reply": "2024-03-22T10:49:48.788883Z"
    }
   },
   "outputs": [],
   "source": [
    "my_cells = create_n_BallAndStick(7, 50)"
   ]
  },
  {
   "cell_type": "markdown",
   "metadata": {},
   "source": [
    "Let's plot them using NEURON's built-in graphics:"
   ]
  },
  {
   "cell_type": "code",
   "execution_count": 11,
   "metadata": {
    "execution": {
     "iopub.execute_input": "2024-03-22T10:49:48.791576Z",
     "iopub.status.busy": "2024-03-22T10:49:48.791407Z",
     "iopub.status.idle": "2024-03-22T10:49:48.795347Z",
     "shell.execute_reply": "2024-03-22T10:49:48.794792Z"
    }
   },
   "outputs": [
    {
     "data": {
      "text/plain": [
       "1"
      ]
     },
     "execution_count": 11,
     "metadata": {},
     "output_type": "execute_result"
    }
   ],
   "source": [
    "ps = h.PlotShape(True)\n",
    "ps.show(0)"
   ]
  },
  {
   "cell_type": "markdown",
   "metadata": {},
   "source": [
    "Using functions like this is extremely flexible. We can switch to 5 cells like this:"
   ]
  },
  {
   "cell_type": "code",
   "execution_count": 12,
   "metadata": {
    "execution": {
     "iopub.execute_input": "2024-03-22T10:49:48.797548Z",
     "iopub.status.busy": "2024-03-22T10:49:48.797268Z",
     "iopub.status.idle": "2024-03-22T10:49:48.800561Z",
     "shell.execute_reply": "2024-03-22T10:49:48.799913Z"
    }
   },
   "outputs": [],
   "source": [
    "my_cells = create_n_BallAndStick(5, 50)"
   ]
  },
  {
   "cell_type": "markdown",
   "metadata": {},
   "source": [
    "The old cells disappear (they get garbage collected, as there are no longer any references to them), and the new cells appear in the existing graph."
   ]
  },
  {
   "cell_type": "markdown",
   "metadata": {},
   "source": [
    "## A first synapse, and input via a NetStim"
   ]
  },
  {
   "cell_type": "markdown",
   "metadata": {},
   "source": [
    "Okay, we have our ball-and-stick cells arranged in a ring. Let’s now stimulate a cell and see that it responds appropriately. Instead of stimulating with a current electrode as we did before, let’s assign a virtual synapse so that we get acquainted with driving the cells through synaptic events.\n",
    "\n",
    "Event-based communication between objects in NEURON takes place via network connection objects called <a href=\"https://neuron.yale.edu/neuron/static/py_doc/modelspec/programmatic/network/netcon.html#NetCon\">NetCon</a>s. Each NetCon has a source and target, where the source is typically a spike threshold detector. When a spike is detected, the NetCon sends a message to a target, usually a synapse on a postsynaptic cell.\n",
    "\n",
    "A <a href=\"https://neuron.yale.edu/neuron/static/py_doc/modelspec/programmatic/mechanisms/mech.html#NetStim\">NetStim</a> is a spike generator that can be used as the source in a NetCon, behaving as external input onto the synapse of a target cell. The following code makes a NetStim object that generates one spike at time t=9. The NetCon then adds another ms delay to deliver a synaptic event at time t=10 onto the first cell.\n",
    "\n",
    "The code below makes a stimulator and attaches it to a synapse object (<a href=\"https://neuron.yale.edu/neuron/static/py_doc/modelspec/programmatic/mechanisms/mech.html#ExpSyn\">ExpSyn</a>) that behaves much like an AMPA synapse – it conducts current as a decaying exponential function."
   ]
  },
  {
   "cell_type": "code",
   "execution_count": 13,
   "metadata": {
    "execution": {
     "iopub.execute_input": "2024-03-22T10:49:48.803068Z",
     "iopub.status.busy": "2024-03-22T10:49:48.802894Z",
     "iopub.status.idle": "2024-03-22T10:49:48.806961Z",
     "shell.execute_reply": "2024-03-22T10:49:48.806551Z"
    }
   },
   "outputs": [],
   "source": [
    "stim = h.NetStim()  # Make a new stimulator\n",
    "\n",
    "## Attach it to a synapse in the middle of the dendrite\n",
    "## of the first cell in the network. (Named 'syn_' to avoid\n",
    "## being overwritten with the 'syn' var assigned later.)\n",
    "syn_ = h.ExpSyn(my_cells[0].dend(0.5))\n",
    "\n",
    "stim.number = 1\n",
    "stim.start = 9\n",
    "ncstim = h.NetCon(stim, syn_)\n",
    "ncstim.delay = 1 * ms\n",
    "ncstim.weight[0] = 0.04  # NetCon weight is a vector."
   ]
  },
  {
   "cell_type": "markdown",
   "metadata": {},
   "source": [
    "Exponentially decaying currents, such as that generated by the synapse `syn_` have dynamics that depend on `tau`, the time constant. Let's specify a time constant of 2 ms:"
   ]
  },
  {
   "cell_type": "code",
   "execution_count": 14,
   "metadata": {
    "execution": {
     "iopub.execute_input": "2024-03-22T10:49:48.809044Z",
     "iopub.status.busy": "2024-03-22T10:49:48.808871Z",
     "iopub.status.idle": "2024-03-22T10:49:48.811367Z",
     "shell.execute_reply": "2024-03-22T10:49:48.810773Z"
    }
   },
   "outputs": [],
   "source": [
    "syn_.tau = 2 * ms"
   ]
  },
  {
   "cell_type": "markdown",
   "metadata": {},
   "source": [
    "The parameter `tau` specifies how quickly the currents decay. The exact value of the current depends on the cell's membrane potential, and the synapse's reversal potential, `syn_.e`."
   ]
  },
  {
   "cell_type": "code",
   "execution_count": 15,
   "metadata": {
    "execution": {
     "iopub.execute_input": "2024-03-22T10:49:48.813521Z",
     "iopub.status.busy": "2024-03-22T10:49:48.813355Z",
     "iopub.status.idle": "2024-03-22T10:49:48.816469Z",
     "shell.execute_reply": "2024-03-22T10:49:48.815878Z"
    }
   },
   "outputs": [
    {
     "name": "stdout",
     "output_type": "stream",
     "text": [
      "Reversal potential = 0.0 mV\n"
     ]
    }
   ],
   "source": [
    "print(\"Reversal potential = {} mV\".format(syn_.e))"
   ]
  },
  {
   "cell_type": "markdown",
   "metadata": {},
   "source": [
    "## Running and plotting a simulation"
   ]
  },
  {
   "cell_type": "markdown",
   "metadata": {},
   "source": [
    "Right now, there are no synapses between cells, but let's confirm that the first cell works correctly:"
   ]
  },
  {
   "cell_type": "markdown",
   "metadata": {},
   "source": [
    "### Recording"
   ]
  },
  {
   "cell_type": "code",
   "execution_count": 16,
   "metadata": {
    "execution": {
     "iopub.execute_input": "2024-03-22T10:49:48.818781Z",
     "iopub.status.busy": "2024-03-22T10:49:48.818609Z",
     "iopub.status.idle": "2024-03-22T10:49:48.821743Z",
     "shell.execute_reply": "2024-03-22T10:49:48.821241Z"
    }
   },
   "outputs": [],
   "source": [
    "recording_cell = my_cells[0]\n",
    "soma_v = h.Vector().record(recording_cell.soma(0.5)._ref_v)\n",
    "dend_v = h.Vector().record(recording_cell.dend(0.5)._ref_v)\n",
    "t = h.Vector().record(h._ref_t)"
   ]
  },
  {
   "cell_type": "markdown",
   "metadata": {},
   "source": [
    "### Simulating"
   ]
  },
  {
   "cell_type": "code",
   "execution_count": 17,
   "metadata": {
    "execution": {
     "iopub.execute_input": "2024-03-22T10:49:48.823849Z",
     "iopub.status.busy": "2024-03-22T10:49:48.823678Z",
     "iopub.status.idle": "2024-03-22T10:49:48.831533Z",
     "shell.execute_reply": "2024-03-22T10:49:48.831016Z"
    }
   },
   "outputs": [
    {
     "data": {
      "text/plain": [
       "0.0"
      ]
     },
     "execution_count": 17,
     "metadata": {},
     "output_type": "execute_result"
    }
   ],
   "source": [
    "h.finitialize(-65 * mV)\n",
    "h.continuerun(25 * ms)"
   ]
  },
  {
   "cell_type": "markdown",
   "metadata": {},
   "source": [
    "### Plotting"
   ]
  },
  {
   "cell_type": "markdown",
   "metadata": {},
   "source": [
    "As before, if you're running in a Jupyter notebook, you'll need to tell it to display plots inline. Skip this step if you are running from a script:"
   ]
  },
  {
   "cell_type": "code",
   "execution_count": 18,
   "metadata": {
    "execution": {
     "iopub.execute_input": "2024-03-22T10:49:48.833819Z",
     "iopub.status.busy": "2024-03-22T10:49:48.833527Z",
     "iopub.status.idle": "2024-03-22T10:49:49.094781Z",
     "shell.execute_reply": "2024-03-22T10:49:49.094207Z"
    }
   },
   "outputs": [],
   "source": [
    "%matplotlib inline"
   ]
  },
  {
   "cell_type": "code",
   "execution_count": 19,
   "metadata": {
    "execution": {
     "iopub.execute_input": "2024-03-22T10:49:49.097525Z",
     "iopub.status.busy": "2024-03-22T10:49:49.097297Z",
     "iopub.status.idle": "2024-03-22T10:49:49.230720Z",
     "shell.execute_reply": "2024-03-22T10:49:49.229740Z"
    }
   },
   "outputs": [
    {
     "data": {
      "image/png": "[encoded data removed]",
      "text/plain": [
       "<Figure size 640x480 with 1 Axes>"
      ]
     },
     "metadata": {},
     "output_type": "display_data"
    }
   ],
   "source": [
    "import matplotlib.pyplot as plt\n",
    "\n",
    "plt.plot(t, soma_v, label=\"soma(0.5)\")\n",
    "plt.plot(t, dend_v, label=\"dend(0.5)\")\n",
    "plt.legend()\n",
    "plt.show()"
   ]
  },
  {
   "cell_type": "markdown",
   "metadata": {},
   "source": [
    "### Recording synaptic conductance"
   ]
  },
  {
   "cell_type": "markdown",
   "metadata": {},
   "source": [
    "To understand the above graph, we may wish to consider the time series of synaptic current. Let's create a new Vector to monitor that:"
   ]
  },
  {
   "cell_type": "code",
   "execution_count": 20,
   "metadata": {
    "execution": {
     "iopub.execute_input": "2024-03-22T10:49:49.233518Z",
     "iopub.status.busy": "2024-03-22T10:49:49.233047Z",
     "iopub.status.idle": "2024-03-22T10:49:49.237046Z",
     "shell.execute_reply": "2024-03-22T10:49:49.236492Z"
    }
   },
   "outputs": [],
   "source": [
    "syn_i = h.Vector().record(syn_._ref_i)"
   ]
  },
  {
   "cell_type": "markdown",
   "metadata": {},
   "source": [
    "Only data that is explicitly recorded during a simulation is stored, so we will have to rerun the simulation to compute those currents:"
   ]
  },
  {
   "cell_type": "code",
   "execution_count": 21,
   "metadata": {
    "execution": {
     "iopub.execute_input": "2024-03-22T10:49:49.239528Z",
     "iopub.status.busy": "2024-03-22T10:49:49.239176Z",
     "iopub.status.idle": "2024-03-22T10:49:49.247042Z",
     "shell.execute_reply": "2024-03-22T10:49:49.246473Z"
    }
   },
   "outputs": [
    {
     "data": {
      "text/plain": [
       "0.0"
      ]
     },
     "execution_count": 21,
     "metadata": {},
     "output_type": "execute_result"
    }
   ],
   "source": [
    "h.finitialize(-65 * mV)\n",
    "h.continuerun(25 * ms)"
   ]
  },
  {
   "cell_type": "markdown",
   "metadata": {},
   "source": [
    "Now we can plot:"
   ]
  },
  {
   "cell_type": "code",
   "execution_count": 22,
   "metadata": {
    "execution": {
     "iopub.execute_input": "2024-03-22T10:49:49.250390Z",
     "iopub.status.busy": "2024-03-22T10:49:49.249989Z",
     "iopub.status.idle": "2024-03-22T10:49:49.441732Z",
     "shell.execute_reply": "2024-03-22T10:49:49.441025Z"
    }
   },
   "outputs": [
    {
     "data": {
      "image/png": "[encoded data removed]",
      "text/plain": [
       "<Figure size 800x400 with 2 Axes>"
      ]
     },
     "metadata": {},
     "output_type": "display_data"
    }
   ],
   "source": [
    "fig = plt.figure(figsize=(8, 4))\n",
    "ax1 = fig.add_subplot(2, 1, 1)\n",
    "soma_plot = ax1.plot(t, soma_v, color=\"black\", label=\"soma(0.5)\")\n",
    "dend_plot = ax1.plot(t, dend_v, color=\"red\", label=\"dend(0.5)\")\n",
    "rev_plot = ax1.plot(\n",
    "    [t[0], t[-1]], [syn_.e, syn_.e], label=\"syn reversal\", color=\"blue\", linestyle=\":\"\n",
    ")\n",
    "ax1.legend()\n",
    "ax1.set_ylabel(\"mV\")\n",
    "ax1.set_xticks([])  # Use ax2's tick labels\n",
    "\n",
    "ax2 = fig.add_subplot(2, 1, 2)\n",
    "syn_plot = ax2.plot(t, syn_i, color=\"blue\", label=\"synaptic current\")\n",
    "ax2.legend()\n",
    "ax2.set_ylabel(h.units(\"ExpSyn.i\"))\n",
    "ax2.set_xlabel(\"time (ms)\")\n",
    "plt.show()"
   ]
  },
  {
   "cell_type": "markdown",
   "metadata": {},
   "source": [
    "Try setting the recording vectors to one of the other cells. They should be unresponsive to the stimulus."
   ]
  },
  {
   "cell_type": "markdown",
   "metadata": {},
   "source": [
    "## Connecting the cells"
   ]
  },
  {
   "cell_type": "markdown",
   "metadata": {},
   "source": [
    "Okay. We have our ball-and-stick cells arranged in a ring, and we have attached a stimulus onto the first cell. Next, we need to connect an axon from cell n to a synapse at the middle of the dendrite on cell n + 1. For this model, the particular dynamics of the axons do not need to be explicitly modeled. When the soma fires an action potential, we assume the spike propagates down the axon and induces a synaptic event onto the dendrite of the target cell with some delay. We can therefore connect a spike detector in the soma of the presynaptic cell that triggers a synaptic event in the target cell via a <a href=\"https://neuron.yale.edu/neuron/static/py_doc/modelspec/programmatic/network/netcon.html#NetCon\">NetCon</a>.\n",
    "\n"
   ]
  },
  {
   "cell_type": "code",
   "execution_count": 23,
   "metadata": {
    "execution": {
     "iopub.execute_input": "2024-03-22T10:49:49.444275Z",
     "iopub.status.busy": "2024-03-22T10:49:49.444093Z",
     "iopub.status.idle": "2024-03-22T10:49:49.448210Z",
     "shell.execute_reply": "2024-03-22T10:49:49.447592Z"
    }
   },
   "outputs": [],
   "source": [
    "syns = []\n",
    "netcons = []\n",
    "for source, target in zip(my_cells, my_cells[1:] + [my_cells[0]]):\n",
    "    syn = h.ExpSyn(target.dend(0.5))\n",
    "    nc = h.NetCon(source.soma(0.5)._ref_v, syn, sec=source.soma)\n",
    "    nc.weight[0] = 0.05\n",
    "    nc.delay = 5\n",
    "    netcons.append(nc)\n",
    "    syns.append(syn)"
   ]
  },
  {
   "cell_type": "markdown",
   "metadata": {},
   "source": [
    "The `zip` pairs each cell with the next cell, where the addition places the first cell as the cell after the last cell. The seemingly repetitive specification of the source section in the `NetCon` constructor's `sec=` argument is required for technical reasons."
   ]
  },
  {
   "cell_type": "markdown",
   "metadata": {},
   "source": [
    "Let's see what happens to the first cell:"
   ]
  },
  {
   "cell_type": "code",
   "execution_count": 24,
   "metadata": {
    "execution": {
     "iopub.execute_input": "2024-03-22T10:49:49.450639Z",
     "iopub.status.busy": "2024-03-22T10:49:49.450272Z",
     "iopub.status.idle": "2024-03-22T10:49:49.606698Z",
     "shell.execute_reply": "2024-03-22T10:49:49.606020Z"
    }
   },
   "outputs": [
    {
     "data": {
      "image/png": "[encoded data removed]",
      "text/plain": [
       "<Figure size 640x480 with 1 Axes>"
      ]
     },
     "metadata": {},
     "output_type": "display_data"
    }
   ],
   "source": [
    "h.finitialize(-65 * mV)\n",
    "h.continuerun(100 * ms)\n",
    "plt.plot(t, soma_v, label=\"soma(0.5)\")\n",
    "plt.plot(t, dend_v, label=\"dend(0.5)\")\n",
    "plt.legend()\n",
    "plt.show()"
   ]
  },
  {
   "cell_type": "markdown",
   "metadata": {},
   "source": [
    "Here we of course only plotting `my_cells[0]`, but the fact that it spikes more than just once suggests that spikes are being transmitted throughout the network.\n",
    "\n",
    "<b>As an exercise</b>, try rerunning the above plotting `my_cells[1]` alternatively or in-addition to `my_cells[0]`."
   ]
  },
  {
   "cell_type": "markdown",
   "metadata": {},
   "source": [
    "We can ask each of our existing `NetCon`s to record spike times in NEURON `Vector` objects using <a href=\"https://neuron.yale.edu/neuron/static/py_doc/modelspec/programmatic/network/netcon.html#NetCon.record\">NetCon.record</a>:"
   ]
  },
  {
   "cell_type": "code",
   "execution_count": 25,
   "metadata": {
    "execution": {
     "iopub.execute_input": "2024-03-22T10:49:49.609305Z",
     "iopub.status.busy": "2024-03-22T10:49:49.609111Z",
     "iopub.status.idle": "2024-03-22T10:49:49.612427Z",
     "shell.execute_reply": "2024-03-22T10:49:49.611754Z"
    }
   },
   "outputs": [],
   "source": [
    "spike_times = [h.Vector() for nc in netcons]\n",
    "for nc, spike_times_vec in zip(netcons, spike_times):\n",
    "    nc.record(spike_times_vec)"
   ]
  },
  {
   "cell_type": "markdown",
   "metadata": {},
   "source": [
    "Once again, we rerun everything to 100 ms:"
   ]
  },
  {
   "cell_type": "code",
   "execution_count": 26,
   "metadata": {
    "execution": {
     "iopub.execute_input": "2024-03-22T10:49:49.614624Z",
     "iopub.status.busy": "2024-03-22T10:49:49.614456Z",
     "iopub.status.idle": "2024-03-22T10:49:49.635446Z",
     "shell.execute_reply": "2024-03-22T10:49:49.634991Z"
    }
   },
   "outputs": [
    {
     "data": {
      "text/plain": [
       "0.0"
      ]
     },
     "execution_count": 26,
     "metadata": {},
     "output_type": "execute_result"
    }
   ],
   "source": [
    "h.finitialize(-65 * mV)\n",
    "h.continuerun(100 * ms)"
   ]
  },
  {
   "cell_type": "markdown",
   "metadata": {},
   "source": [
    "Print out the results:"
   ]
  },
  {
   "cell_type": "code",
   "execution_count": 27,
   "metadata": {
    "execution": {
     "iopub.execute_input": "2024-03-22T10:49:49.637752Z",
     "iopub.status.busy": "2024-03-22T10:49:49.637579Z",
     "iopub.status.idle": "2024-03-22T10:49:49.641361Z",
     "shell.execute_reply": "2024-03-22T10:49:49.640734Z"
    }
   },
   "outputs": [
    {
     "name": "stdout",
     "output_type": "stream",
     "text": [
      "cell 0: [10.925000000099914, 43.55000000010134, 76.17500000010875]\n",
      "cell 1: [17.450000000099543, 50.075000000102825, 82.70000000011024]\n",
      "cell 2: [23.975000000099172, 56.60000000010431, 89.22500000011172]\n",
      "cell 3: [30.5000000000988, 63.12500000010579, 95.7500000001132]\n",
      "cell 4: [37.02500000009986, 69.65000000010727]\n"
     ]
    }
   ],
   "source": [
    "for i, spike_times_vec in enumerate(spike_times):\n",
    "    print(\"cell {}: {}\".format(i, list(spike_times_vec)))"
   ]
  },
  {
   "cell_type": "markdown",
   "metadata": {},
   "source": [
    "Each line represents one cell and lists all the times it fires: cell 0 fires first, then 1, 2, 3, 4, back to 0, etc."
   ]
  },
  {
   "cell_type": "markdown",
   "metadata": {},
   "source": [
    "A more intuitive way of seeing this is to use a raster plot. Here's how to do that with matplotlib:"
   ]
  },
  {
   "cell_type": "code",
   "execution_count": 28,
   "metadata": {
    "execution": {
     "iopub.execute_input": "2024-03-22T10:49:49.643604Z",
     "iopub.status.busy": "2024-03-22T10:49:49.643433Z",
     "iopub.status.idle": "2024-03-22T10:49:49.723336Z",
     "shell.execute_reply": "2024-03-22T10:49:49.722886Z"
    }
   },
   "outputs": [
    {
     "data": {
      "image/png": "[encoded data removed]",
      "text/plain": [
       "<Figure size 640x480 with 1 Axes>"
      ]
     },
     "metadata": {},
     "output_type": "display_data"
    }
   ],
   "source": [
    "import matplotlib.pyplot as plt\n",
    "\n",
    "plt.figure()\n",
    "\n",
    "for i, spike_times_vec in enumerate(spike_times):\n",
    "    plt.vlines(list(spike_times_vec), i + 0.5, i + 1.5)\n",
    "plt.show()"
   ]
  },
  {
   "cell_type": "markdown",
   "metadata": {},
   "source": [
    "This page has demonstrated various functionality to arrange, connect, and visualize a network and its output. As nice as it may seem, it needs some design work to make it flexible. The next part of the tutorial further organizes the functionality into more classes to make it more easily extended."
   ]
  }
 ],
 "metadata": {
  "language_info": {
   "codemirror_mode": {
    "name": "ipython",
    "version": 3
   },
   "file_extension": ".py",
   "mimetype": "text/x-python",
   "name": "python",
   "nbconvert_exporter": "python",
   "pygments_lexer": "ipython3",
   "version": "3.11.8"
  }
 },
 "nbformat": 4,
 "nbformat_minor": 2
}
