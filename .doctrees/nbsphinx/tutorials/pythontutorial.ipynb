{
 "cells": [
  {
   "cell_type": "markdown",
   "metadata": {},
   "source": [
    "# Introduction to Python"
   ]
  },
  {
   "cell_type": "markdown",
   "metadata": {},
   "source": [
    "This page demonstrates some basic Python concepts and essentials. See the <a class=\"reference external\" href=\"http://docs.python.org/tutorial/index.html\">Python Tutorial</a> and <a class=\"reference external\" href=\"http://docs.python.org/library/index.html\">Reference</a> for more exhaustive resources.\n",
    "<p>This page provides a brief introduction to:</p>\n",
    "<ul class=\"simple\">\n",
    "<li>Python syntax</li>\n",
    "<li>Variables</li>\n",
    "<li>Lists and Dicts</li>\n",
    "<li>For loops and iterators</li>\n",
    "<li>Functions</li>\n",
    "<li>Classes</li>\n",
    "<li>Importing modules</li>\n",
    "<li>Writing and reading files with Pickling.</li>\n",
    "</ul>"
   ]
  },
  {
   "cell_type": "markdown",
   "metadata": {},
   "source": [
    "## Displaying results"
   ]
  },
  {
   "cell_type": "markdown",
   "metadata": {},
   "source": [
    "The following command simply prints \"Hello world!\". Run it, and then re-evaluate with a different string."
   ]
  },
  {
   "cell_type": "code",
   "execution_count": 1,
   "metadata": {
    "execution": {
     "iopub.execute_input": "2024-03-22T10:49:58.341762Z",
     "iopub.status.busy": "2024-03-22T10:49:58.341316Z",
     "iopub.status.idle": "2024-03-22T10:49:58.347714Z",
     "shell.execute_reply": "2024-03-22T10:49:58.347270Z"
    }
   },
   "outputs": [
    {
     "name": "stdout",
     "output_type": "stream",
     "text": [
      "Hello world!\n"
     ]
    }
   ],
   "source": [
    "print(\"Hello world!\")"
   ]
  },
  {
   "cell_type": "markdown",
   "metadata": {},
   "source": [
    "Here <tt>print</tt> is a function that displays its input on the screen."
   ]
  },
  {
   "cell_type": "markdown",
   "metadata": {},
   "source": [
    "We can use a string's <tt>format</tt> method with <tt>{}</tt> placeholders to substitute calculated values into the output in specific locations; for example:"
   ]
  },
  {
   "cell_type": "code",
   "execution_count": 2,
   "metadata": {
    "execution": {
     "iopub.execute_input": "2024-03-22T10:49:58.350349Z",
     "iopub.status.busy": "2024-03-22T10:49:58.350020Z",
     "iopub.status.idle": "2024-03-22T10:49:58.353354Z",
     "shell.execute_reply": "2024-03-22T10:49:58.352614Z"
    }
   },
   "outputs": [
    {
     "name": "stdout",
     "output_type": "stream",
     "text": [
      "3 + 4 = 7. Amazing!\n"
     ]
    }
   ],
   "source": [
    "print(\"3 + 4 = {}. Amazing!\".format(3 + 4))"
   ]
  },
  {
   "cell_type": "markdown",
   "metadata": {},
   "source": [
    "Multiple values can be substituted:"
   ]
  },
  {
   "cell_type": "code",
   "execution_count": 3,
   "metadata": {
    "execution": {
     "iopub.execute_input": "2024-03-22T10:49:58.355603Z",
     "iopub.status.busy": "2024-03-22T10:49:58.355281Z",
     "iopub.status.idle": "2024-03-22T10:49:58.358091Z",
     "shell.execute_reply": "2024-03-22T10:49:58.357542Z"
    }
   },
   "outputs": [
    {
     "name": "stdout",
     "output_type": "stream",
     "text": [
      "The length of the apical dendrite is 100 microns.\n"
     ]
    }
   ],
   "source": [
    "print(\"The length of the {} is {} microns.\".format(\"apical dendrite\", 100))"
   ]
  },
  {
   "cell_type": "markdown",
   "metadata": {},
   "source": [
    "There are more sophisticated ways of using <tt>format</tt>\n",
    "(see <a class=\"reference external\" href=\"https://docs.python.org/3/library/string.html#format-examples\">examples</a> on the Python website)."
   ]
  },
  {
   "cell_type": "markdown",
   "metadata": {},
   "source": [
    "## Variables: Strings, numbers, and dynamic type casting"
   ]
  },
  {
   "cell_type": "markdown",
   "metadata": {},
   "source": [
    "Variables are easily assigned:"
   ]
  },
  {
   "cell_type": "code",
   "execution_count": 4,
   "metadata": {
    "execution": {
     "iopub.execute_input": "2024-03-22T10:49:58.360429Z",
     "iopub.status.busy": "2024-03-22T10:49:58.360261Z",
     "iopub.status.idle": "2024-03-22T10:49:58.362939Z",
     "shell.execute_reply": "2024-03-22T10:49:58.362463Z"
    }
   },
   "outputs": [],
   "source": [
    "my_name = \"Tom\"\n",
    "my_age = 45"
   ]
  },
  {
   "cell_type": "markdown",
   "metadata": {},
   "source": [
    "Let’s work with these variables."
   ]
  },
  {
   "cell_type": "code",
   "execution_count": 5,
   "metadata": {
    "execution": {
     "iopub.execute_input": "2024-03-22T10:49:58.365027Z",
     "iopub.status.busy": "2024-03-22T10:49:58.364862Z",
     "iopub.status.idle": "2024-03-22T10:49:58.368180Z",
     "shell.execute_reply": "2024-03-22T10:49:58.367755Z"
    }
   },
   "outputs": [
    {
     "name": "stdout",
     "output_type": "stream",
     "text": [
      "Tom\n"
     ]
    }
   ],
   "source": [
    "print(my_name)"
   ]
  },
  {
   "cell_type": "code",
   "execution_count": 6,
   "metadata": {
    "execution": {
     "iopub.execute_input": "2024-03-22T10:49:58.370475Z",
     "iopub.status.busy": "2024-03-22T10:49:58.370015Z",
     "iopub.status.idle": "2024-03-22T10:49:58.373268Z",
     "shell.execute_reply": "2024-03-22T10:49:58.372801Z"
    }
   },
   "outputs": [
    {
     "name": "stdout",
     "output_type": "stream",
     "text": [
      "45\n"
     ]
    }
   ],
   "source": [
    "print(my_age)"
   ]
  },
  {
   "cell_type": "markdown",
   "metadata": {},
   "source": [
    "Strings can be combined with the + operator."
   ]
  },
  {
   "cell_type": "code",
   "execution_count": 7,
   "metadata": {
    "execution": {
     "iopub.execute_input": "2024-03-22T10:49:58.375378Z",
     "iopub.status.busy": "2024-03-22T10:49:58.375063Z",
     "iopub.status.idle": "2024-03-22T10:49:58.378411Z",
     "shell.execute_reply": "2024-03-22T10:49:58.377840Z"
    }
   },
   "outputs": [
    {
     "name": "stdout",
     "output_type": "stream",
     "text": [
      "Hello, Tom\n"
     ]
    }
   ],
   "source": [
    "greeting = \"Hello, \" + my_name\n",
    "print(greeting)"
   ]
  },
  {
   "cell_type": "markdown",
   "metadata": {},
   "source": [
    "Let’s move on to numbers."
   ]
  },
  {
   "cell_type": "code",
   "execution_count": 8,
   "metadata": {
    "execution": {
     "iopub.execute_input": "2024-03-22T10:49:58.380488Z",
     "iopub.status.busy": "2024-03-22T10:49:58.380318Z",
     "iopub.status.idle": "2024-03-22T10:49:58.383170Z",
     "shell.execute_reply": "2024-03-22T10:49:58.382386Z"
    }
   },
   "outputs": [
    {
     "name": "stdout",
     "output_type": "stream",
     "text": [
      "45\n"
     ]
    }
   ],
   "source": [
    "print(my_age)"
   ]
  },
  {
   "cell_type": "markdown",
   "metadata": {},
   "source": [
    "If you try using the + operator on my_name and my_age:"
   ]
  },
  {
   "cell_type": "markdown",
   "metadata": {},
   "source": [
    "```python\n",
    "print(my_name + my_age)\n",
    "```"
   ]
  },
  {
   "cell_type": "markdown",
   "metadata": {},
   "source": [
    "<p>You will get a <a class=\"reference external\" href=\"https://docs.python.org/3/library/exceptions.html#TypeError\" title=\"(in Python v3.6)\"><code class=\"xref py py-class docutils literal\"><span class=\"pre\">TypeError</span></code></a>. What is wrong?</p>\n",
    "<p>my_name is a string and my_age is a number. Adding in this context does not make any sense.</p>\n",
    "<p>We can determine an object’s type with the <code class=\"xref py py-func docutils literal\"><span class=\"pre\">type()</span></code> function.</p>"
   ]
  },
  {
   "cell_type": "code",
   "execution_count": 9,
   "metadata": {
    "execution": {
     "iopub.execute_input": "2024-03-22T10:49:58.385557Z",
     "iopub.status.busy": "2024-03-22T10:49:58.385224Z",
     "iopub.status.idle": "2024-03-22T10:49:58.390995Z",
     "shell.execute_reply": "2024-03-22T10:49:58.390479Z"
    }
   },
   "outputs": [
    {
     "data": {
      "text/plain": [
       "str"
      ]
     },
     "execution_count": 9,
     "metadata": {},
     "output_type": "execute_result"
    }
   ],
   "source": [
    "type(my_name)"
   ]
  },
  {
   "cell_type": "code",
   "execution_count": 10,
   "metadata": {
    "execution": {
     "iopub.execute_input": "2024-03-22T10:49:58.393060Z",
     "iopub.status.busy": "2024-03-22T10:49:58.392769Z",
     "iopub.status.idle": "2024-03-22T10:49:58.396477Z",
     "shell.execute_reply": "2024-03-22T10:49:58.395819Z"
    }
   },
   "outputs": [
    {
     "data": {
      "text/plain": [
       "int"
      ]
     },
     "execution_count": 10,
     "metadata": {},
     "output_type": "execute_result"
    }
   ],
   "source": [
    "type(my_age)"
   ]
  },
  {
   "cell_type": "markdown",
   "metadata": {},
   "source": [
    "<p>The function <a class=\"reference external\" href=\"https://docs.python.org/3/library/functions.html#isinstance\" title=\"(in Python v3.6)\"><code class=\"xref py py-func docutils literal\"><span class=\"pre\">isinstance()</span></code></a> is typically more useful than comparing variable types as it allows handling subclasses:</p>"
   ]
  },
  {
   "cell_type": "code",
   "execution_count": 11,
   "metadata": {
    "execution": {
     "iopub.execute_input": "2024-03-22T10:49:58.398682Z",
     "iopub.status.busy": "2024-03-22T10:49:58.398335Z",
     "iopub.status.idle": "2024-03-22T10:49:58.402009Z",
     "shell.execute_reply": "2024-03-22T10:49:58.401521Z"
    }
   },
   "outputs": [
    {
     "data": {
      "text/plain": [
       "True"
      ]
     },
     "execution_count": 11,
     "metadata": {},
     "output_type": "execute_result"
    }
   ],
   "source": [
    "isinstance(my_name, str)"
   ]
  },
  {
   "cell_type": "markdown",
   "metadata": {},
   "source": []
  },
  {
   "cell_type": "code",
   "execution_count": 12,
   "metadata": {
    "execution": {
     "iopub.execute_input": "2024-03-22T10:49:58.404422Z",
     "iopub.status.busy": "2024-03-22T10:49:58.403930Z",
     "iopub.status.idle": "2024-03-22T10:49:58.407149Z",
     "shell.execute_reply": "2024-03-22T10:49:58.406658Z"
    }
   },
   "outputs": [
    {
     "name": "stdout",
     "output_type": "stream",
     "text": [
      "The variable is None!\n"
     ]
    }
   ],
   "source": [
    "my_valid_var = None\n",
    "if my_valid_var is not None:\n",
    "    print(my_valid_var)\n",
    "else:\n",
    "    print(\"The variable is None!\")"
   ]
  },
  {
   "cell_type": "markdown",
   "metadata": {},
   "source": []
  },
  {
   "cell_type": "markdown",
   "metadata": {},
   "source": [
    "## Arithmetic: <tt>+</tt>, <tt>-</tt>, <tt>*</tt>, <tt>/</tt>, <tt>**</tt>, <tt>%</tt> and comparisons"
   ]
  },
  {
   "cell_type": "code",
   "execution_count": 13,
   "metadata": {
    "execution": {
     "iopub.execute_input": "2024-03-22T10:49:58.409393Z",
     "iopub.status.busy": "2024-03-22T10:49:58.409095Z",
     "iopub.status.idle": "2024-03-22T10:49:58.412601Z",
     "shell.execute_reply": "2024-03-22T10:49:58.412051Z"
    }
   },
   "outputs": [
    {
     "data": {
      "text/plain": [
       "12"
      ]
     },
     "execution_count": 13,
     "metadata": {},
     "output_type": "execute_result"
    }
   ],
   "source": [
    "2 * 6"
   ]
  },
  {
   "cell_type": "markdown",
   "metadata": {},
   "source": [
    "Check for equality using two equal signs:"
   ]
  },
  {
   "cell_type": "code",
   "execution_count": 14,
   "metadata": {
    "execution": {
     "iopub.execute_input": "2024-03-22T10:49:58.414581Z",
     "iopub.status.busy": "2024-03-22T10:49:58.414418Z",
     "iopub.status.idle": "2024-03-22T10:49:58.418177Z",
     "shell.execute_reply": "2024-03-22T10:49:58.417662Z"
    }
   },
   "outputs": [
    {
     "data": {
      "text/plain": [
       "True"
      ]
     },
     "execution_count": 14,
     "metadata": {},
     "output_type": "execute_result"
    }
   ],
   "source": [
    "2 * 6 == 4 * 3"
   ]
  },
  {
   "cell_type": "code",
   "execution_count": 15,
   "metadata": {
    "execution": {
     "iopub.execute_input": "2024-03-22T10:49:58.420618Z",
     "iopub.status.busy": "2024-03-22T10:49:58.420266Z",
     "iopub.status.idle": "2024-03-22T10:49:58.423834Z",
     "shell.execute_reply": "2024-03-22T10:49:58.423309Z"
    }
   },
   "outputs": [
    {
     "data": {
      "text/plain": [
       "False"
      ]
     },
     "execution_count": 15,
     "metadata": {},
     "output_type": "execute_result"
    }
   ],
   "source": [
    "5 < 2"
   ]
  },
  {
   "cell_type": "code",
   "execution_count": 16,
   "metadata": {
    "execution": {
     "iopub.execute_input": "2024-03-22T10:49:58.425931Z",
     "iopub.status.busy": "2024-03-22T10:49:58.425580Z",
     "iopub.status.idle": "2024-03-22T10:49:58.429203Z",
     "shell.execute_reply": "2024-03-22T10:49:58.428684Z"
    }
   },
   "outputs": [
    {
     "data": {
      "text/plain": [
       "True"
      ]
     },
     "execution_count": 16,
     "metadata": {},
     "output_type": "execute_result"
    }
   ],
   "source": [
    "5 < 2 or 3 < 5"
   ]
  },
  {
   "cell_type": "code",
   "execution_count": 17,
   "metadata": {
    "execution": {
     "iopub.execute_input": "2024-03-22T10:49:58.431385Z",
     "iopub.status.busy": "2024-03-22T10:49:58.431071Z",
     "iopub.status.idle": "2024-03-22T10:49:58.434525Z",
     "shell.execute_reply": "2024-03-22T10:49:58.434052Z"
    }
   },
   "outputs": [
    {
     "data": {
      "text/plain": [
       "False"
      ]
     },
     "execution_count": 17,
     "metadata": {},
     "output_type": "execute_result"
    }
   ],
   "source": [
    "5 < 2 and 3 < 5"
   ]
  },
  {
   "cell_type": "code",
   "execution_count": 18,
   "metadata": {
    "execution": {
     "iopub.execute_input": "2024-03-22T10:49:58.436648Z",
     "iopub.status.busy": "2024-03-22T10:49:58.436298Z",
     "iopub.status.idle": "2024-03-22T10:49:58.440184Z",
     "shell.execute_reply": "2024-03-22T10:49:58.439711Z"
    }
   },
   "outputs": [
    {
     "data": {
      "text/plain": [
       "True"
      ]
     },
     "execution_count": 18,
     "metadata": {},
     "output_type": "execute_result"
    }
   ],
   "source": [
    "2 * 3 != 5"
   ]
  },
  {
   "cell_type": "markdown",
   "metadata": {},
   "source": [
    "<tt>%</tt> is the modulus operator. It returns the remainder from doing a division."
   ]
  },
  {
   "cell_type": "code",
   "execution_count": 19,
   "metadata": {
    "execution": {
     "iopub.execute_input": "2024-03-22T10:49:58.442357Z",
     "iopub.status.busy": "2024-03-22T10:49:58.442047Z",
     "iopub.status.idle": "2024-03-22T10:49:58.445787Z",
     "shell.execute_reply": "2024-03-22T10:49:58.445347Z"
    }
   },
   "outputs": [
    {
     "data": {
      "text/plain": [
       "2"
      ]
     },
     "execution_count": 19,
     "metadata": {},
     "output_type": "execute_result"
    }
   ],
   "source": [
    "5 % 3"
   ]
  },
  {
   "cell_type": "markdown",
   "metadata": {},
   "source": [
    "The above is because 5 / 3 is 1 with a remainder of 2."
   ]
  },
  {
   "cell_type": "markdown",
   "metadata": {},
   "source": [
    "In decimal, that is:"
   ]
  },
  {
   "cell_type": "code",
   "execution_count": 20,
   "metadata": {
    "execution": {
     "iopub.execute_input": "2024-03-22T10:49:58.448001Z",
     "iopub.status.busy": "2024-03-22T10:49:58.447687Z",
     "iopub.status.idle": "2024-03-22T10:49:58.451109Z",
     "shell.execute_reply": "2024-03-22T10:49:58.450593Z"
    }
   },
   "outputs": [
    {
     "data": {
      "text/plain": [
       "1.6666666666666667"
      ]
     },
     "execution_count": 20,
     "metadata": {},
     "output_type": "execute_result"
    }
   ],
   "source": [
    "5 / 3"
   ]
  },
  {
   "cell_type": "markdown",
   "metadata": {},
   "source": [
    "<div style='background-color:pink'>\n",
    "<p class=\"first admonition-title\"><b>Warning</b></p>\n",
    "<p class=\"last\">In older versions of Python (prior to 3.0), the <code class=\"docutils literal\" style='background-color:pink'><span class=\"pre\">/</span></code> operator when used on integers performed integer division; i.e. <code class=\"docutils literal\" style='background-color:pink'><span class=\"pre\">3/2</span></code> returned <code class=\"docutils literal\" style='background-color:pink'><span class=\"pre\">1</span></code>, but <code class=\"docutils literal\" style='background-color:pink'><span class=\"pre\">3/2.0</span></code> returned <code class=\"docutils literal\" style='background-color:pink'><span class=\"pre\">1.5</span></code>. Beginning with Python 3.0, the <code class=\"docutils literal\" style='background-color:pink'><span class=\"pre\">/</span></code> operator returns a float if integers do not divide evenly; i.e. <code class=\"docutils literal\" style='background-color:pink'><span class=\"pre\">3/2</span></code> returns <code class=\"docutils literal\" style='background-color:pink'><span class=\"pre\">1.5</span></code>. Integer division is still available using the <code class=\"docutils literal\" style='background-color:pink'><span class=\"pre\">//</span></code> operator, i.e. <code class=\"docutils literal\" style='background-color:pink'><span class=\"pre\">3</span> <span class=\"pre\">//</span> <span class=\"pre\">2</span></code> evaluates to 1.</p></div>"
   ]
  },
  {
   "cell_type": "markdown",
   "metadata": {},
   "source": [
    "## Making choices: if, else"
   ]
  },
  {
   "cell_type": "code",
   "execution_count": 21,
   "metadata": {
    "execution": {
     "iopub.execute_input": "2024-03-22T10:49:58.453406Z",
     "iopub.status.busy": "2024-03-22T10:49:58.453088Z",
     "iopub.status.idle": "2024-03-22T10:49:58.455972Z",
     "shell.execute_reply": "2024-03-22T10:49:58.455432Z"
    }
   },
   "outputs": [
    {
     "name": "stdout",
     "output_type": "stream",
     "text": [
      "working on the soma\n"
     ]
    }
   ],
   "source": [
    "section = \"soma\"\n",
    "if section == \"soma\":\n",
    "    print(\"working on the soma\")\n",
    "else:\n",
    "    print(\"not working on the soma\")"
   ]
  },
  {
   "cell_type": "code",
   "execution_count": 22,
   "metadata": {
    "execution": {
     "iopub.execute_input": "2024-03-22T10:49:58.458185Z",
     "iopub.status.busy": "2024-03-22T10:49:58.457894Z",
     "iopub.status.idle": "2024-03-22T10:49:58.461149Z",
     "shell.execute_reply": "2024-03-22T10:49:58.460439Z"
    }
   },
   "outputs": [
    {
     "name": "stdout",
     "output_type": "stream",
     "text": [
      "not statistically significant\n"
     ]
    }
   ],
   "source": [
    "p = 0.06\n",
    "if p < 0.05:\n",
    "    print(\"statistically significant\")\n",
    "else:\n",
    "    print(\"not statistically significant\")"
   ]
  },
  {
   "cell_type": "markdown",
   "metadata": {},
   "source": [
    "Note that here we used a single quote instead of a double quote to indicate the beginning and end of a string. Either way is fine, as long as the beginning and end of a string match."
   ]
  },
  {
   "cell_type": "markdown",
   "metadata": {},
   "source": [
    "Python also has a special object called <tt>None</tt>. This is one way you can specify whether or not an object is valid. When doing comparisons with <tt>None</tt>, it is generally recommended to use <tt>is</tt> and <tt>is not</tt>:"
   ]
  },
  {
   "cell_type": "code",
   "execution_count": 23,
   "metadata": {
    "execution": {
     "iopub.execute_input": "2024-03-22T10:49:58.463424Z",
     "iopub.status.busy": "2024-03-22T10:49:58.463263Z",
     "iopub.status.idle": "2024-03-22T10:49:58.466284Z",
     "shell.execute_reply": "2024-03-22T10:49:58.465711Z"
    }
   },
   "outputs": [
    {
     "name": "stdout",
     "output_type": "stream",
     "text": [
      "No postsynaptic cell to connect to\n"
     ]
    }
   ],
   "source": [
    "postsynaptic_cell = None\n",
    "if postsynaptic_cell is not None:\n",
    "    print(\"Connecting to postsynaptic cell\")\n",
    "else:\n",
    "    print(\"No postsynaptic cell to connect to\")"
   ]
  },
  {
   "cell_type": "markdown",
   "metadata": {},
   "source": [
    "## Lists"
   ]
  },
  {
   "cell_type": "markdown",
   "metadata": {},
   "source": [
    "Lists are comma-separated values surrounded by square brackets:"
   ]
  },
  {
   "cell_type": "code",
   "execution_count": 24,
   "metadata": {
    "execution": {
     "iopub.execute_input": "2024-03-22T10:49:58.468507Z",
     "iopub.status.busy": "2024-03-22T10:49:58.468190Z",
     "iopub.status.idle": "2024-03-22T10:49:58.471388Z",
     "shell.execute_reply": "2024-03-22T10:49:58.470758Z"
    }
   },
   "outputs": [
    {
     "name": "stdout",
     "output_type": "stream",
     "text": [
      "[1, 3, 5, 8, 13]\n"
     ]
    }
   ],
   "source": [
    "my_list = [1, 3, 5, 8, 13]\n",
    "print(my_list)"
   ]
  },
  {
   "cell_type": "markdown",
   "metadata": {},
   "source": [
    "Lists are zero-indexed. That is, the first element is 0."
   ]
  },
  {
   "cell_type": "code",
   "execution_count": 25,
   "metadata": {
    "execution": {
     "iopub.execute_input": "2024-03-22T10:49:58.473616Z",
     "iopub.status.busy": "2024-03-22T10:49:58.473318Z",
     "iopub.status.idle": "2024-03-22T10:49:58.476958Z",
     "shell.execute_reply": "2024-03-22T10:49:58.476520Z"
    }
   },
   "outputs": [
    {
     "data": {
      "text/plain": [
       "1"
      ]
     },
     "execution_count": 25,
     "metadata": {},
     "output_type": "execute_result"
    }
   ],
   "source": [
    "my_list[0]"
   ]
  },
  {
   "cell_type": "markdown",
   "metadata": {},
   "source": [
    "You may often find yourself wanting to know how many items are in a list."
   ]
  },
  {
   "cell_type": "code",
   "execution_count": 26,
   "metadata": {
    "execution": {
     "iopub.execute_input": "2024-03-22T10:49:58.479338Z",
     "iopub.status.busy": "2024-03-22T10:49:58.478935Z",
     "iopub.status.idle": "2024-03-22T10:49:58.482511Z",
     "shell.execute_reply": "2024-03-22T10:49:58.481981Z"
    }
   },
   "outputs": [
    {
     "data": {
      "text/plain": [
       "5"
      ]
     },
     "execution_count": 26,
     "metadata": {},
     "output_type": "execute_result"
    }
   ],
   "source": [
    "len(my_list)"
   ]
  },
  {
   "cell_type": "markdown",
   "metadata": {},
   "source": [
    "Python interprets negative indices as counting backwards from the end of the list. That is, the -1 index refers to the last item, the -2 index refers to the second-to-last item, etc."
   ]
  },
  {
   "cell_type": "code",
   "execution_count": 27,
   "metadata": {
    "execution": {
     "iopub.execute_input": "2024-03-22T10:49:58.484730Z",
     "iopub.status.busy": "2024-03-22T10:49:58.484432Z",
     "iopub.status.idle": "2024-03-22T10:49:58.487734Z",
     "shell.execute_reply": "2024-03-22T10:49:58.486955Z"
    }
   },
   "outputs": [
    {
     "name": "stdout",
     "output_type": "stream",
     "text": [
      "[1, 3, 5, 8, 13]\n",
      "13\n"
     ]
    }
   ],
   "source": [
    "print(my_list)\n",
    "print(my_list[-1])"
   ]
  },
  {
   "cell_type": "markdown",
   "metadata": {},
   "source": [
    "“Slicing” is extracting particular sub-elements from the list in a particular range. However, notice that the right-side is excluded, and the left is included."
   ]
  },
  {
   "cell_type": "code",
   "execution_count": 28,
   "metadata": {
    "execution": {
     "iopub.execute_input": "2024-03-22T10:49:58.490253Z",
     "iopub.status.busy": "2024-03-22T10:49:58.489880Z",
     "iopub.status.idle": "2024-03-22T10:49:58.494002Z",
     "shell.execute_reply": "2024-03-22T10:49:58.493063Z"
    }
   },
   "outputs": [
    {
     "name": "stdout",
     "output_type": "stream",
     "text": [
      "[1, 3, 5, 8, 13]\n",
      "[5, 8]\n",
      "[5, 8]\n",
      "[1, 3]\n",
      "[5, 8, 13]\n"
     ]
    }
   ],
   "source": [
    "print(my_list)\n",
    "print(my_list[2:4])  # Includes the range from index 2 to 3\n",
    "print(my_list[2:-1])  # Includes the range from index 2 to the element before -1\n",
    "print(my_list[:2])  # Includes everything before index 2\n",
    "print(my_list[2:])  # Includes everything from index 2"
   ]
  },
  {
   "cell_type": "markdown",
   "metadata": {},
   "source": [
    "We can check if our list contains a given value using the <tt>in</tt> operator:"
   ]
  },
  {
   "cell_type": "code",
   "execution_count": 29,
   "metadata": {
    "execution": {
     "iopub.execute_input": "2024-03-22T10:49:58.496233Z",
     "iopub.status.busy": "2024-03-22T10:49:58.495912Z",
     "iopub.status.idle": "2024-03-22T10:49:58.499626Z",
     "shell.execute_reply": "2024-03-22T10:49:58.499049Z"
    }
   },
   "outputs": [
    {
     "data": {
      "text/plain": [
       "False"
      ]
     },
     "execution_count": 29,
     "metadata": {},
     "output_type": "execute_result"
    }
   ],
   "source": [
    "42 in my_list"
   ]
  },
  {
   "cell_type": "code",
   "execution_count": 30,
   "metadata": {
    "execution": {
     "iopub.execute_input": "2024-03-22T10:49:58.501846Z",
     "iopub.status.busy": "2024-03-22T10:49:58.501679Z",
     "iopub.status.idle": "2024-03-22T10:49:58.505657Z",
     "shell.execute_reply": "2024-03-22T10:49:58.505204Z"
    }
   },
   "outputs": [
    {
     "data": {
      "text/plain": [
       "True"
      ]
     },
     "execution_count": 30,
     "metadata": {},
     "output_type": "execute_result"
    }
   ],
   "source": [
    "5 in my_list"
   ]
  },
  {
   "cell_type": "markdown",
   "metadata": {},
   "source": [
    "We can append an element to a list using the <tt>append</tt> method:"
   ]
  },
  {
   "cell_type": "code",
   "execution_count": 31,
   "metadata": {
    "execution": {
     "iopub.execute_input": "2024-03-22T10:49:58.507697Z",
     "iopub.status.busy": "2024-03-22T10:49:58.507529Z",
     "iopub.status.idle": "2024-03-22T10:49:58.510844Z",
     "shell.execute_reply": "2024-03-22T10:49:58.510094Z"
    }
   },
   "outputs": [
    {
     "name": "stdout",
     "output_type": "stream",
     "text": [
      "[1, 3, 5, 8, 13, 42]\n"
     ]
    }
   ],
   "source": [
    "my_list.append(42)\n",
    "print(my_list)"
   ]
  },
  {
   "cell_type": "markdown",
   "metadata": {},
   "source": [
    "To make a variable equal to a copy of a list, set it equal to <tt>list(the_old_list)</tt>. For example:"
   ]
  },
  {
   "cell_type": "code",
   "execution_count": 32,
   "metadata": {
    "execution": {
     "iopub.execute_input": "2024-03-22T10:49:58.512949Z",
     "iopub.status.busy": "2024-03-22T10:49:58.512780Z",
     "iopub.status.idle": "2024-03-22T10:49:58.516210Z",
     "shell.execute_reply": "2024-03-22T10:49:58.515401Z"
    }
   },
   "outputs": [
    {
     "name": "stdout",
     "output_type": "stream",
     "text": [
      "list_a = [1, 3, 5, 8, 13]\n",
      "list_b = [13, 8, 5, 3, 1]\n"
     ]
    }
   ],
   "source": [
    "list_a = [1, 3, 5, 8, 13]\n",
    "list_b = list(list_a)\n",
    "list_b.reverse()\n",
    "print(\"list_a = \" + str(list_a))\n",
    "print(\"list_b = \" + str(list_b))"
   ]
  },
  {
   "cell_type": "markdown",
   "metadata": {},
   "source": [
    "In particular, note that assigning one list to another variable <i>does not</i> make a copy. Instead, it just gives another way of accessing the same list."
   ]
  },
  {
   "cell_type": "code",
   "execution_count": 33,
   "metadata": {
    "execution": {
     "iopub.execute_input": "2024-03-22T10:49:58.518455Z",
     "iopub.status.busy": "2024-03-22T10:49:58.518190Z",
     "iopub.status.idle": "2024-03-22T10:49:58.521442Z",
     "shell.execute_reply": "2024-03-22T10:49:58.520849Z"
    }
   },
   "outputs": [
    {
     "name": "stdout",
     "output_type": "stream",
     "text": [
      "initial: list_a[0] = 1\n",
      "final:   list_a[0] = 42\n"
     ]
    }
   ],
   "source": [
    "print(\"initial: list_a[0] = %g\" % list_a[0])\n",
    "foo = list_a\n",
    "foo[0] = 42\n",
    "print(\"final:   list_a[0] = %g\" % list_a[0])"
   ]
  },
  {
   "cell_type": "markdown",
   "metadata": {},
   "source": [
    "<p>If the second line in the previous example was replaced with <tt>list_b = list_a</tt>, then what would happen?</p>\n",
    "<p>In that case, <tt>list_b</tt> is the same list as <tt>list_a</tt> (as opposed to a copy), so when <tt>list_b</tt> was reversed so is <tt>list_a</a> (since <tt>list_b<tt> <i>is</i> <tt>list_a</tt>).</p>"
   ]
  },
  {
   "cell_type": "markdown",
   "metadata": {},
   "source": [
    "We can sort a list and get a new list using the <tt>sorted</tt> function. e.g."
   ]
  },
  {
   "cell_type": "code",
   "execution_count": 34,
   "metadata": {
    "execution": {
     "iopub.execute_input": "2024-03-22T10:49:58.523881Z",
     "iopub.status.busy": "2024-03-22T10:49:58.523496Z",
     "iopub.status.idle": "2024-03-22T10:49:58.527377Z",
     "shell.execute_reply": "2024-03-22T10:49:58.526927Z"
    }
   },
   "outputs": [
    {
     "data": {
      "text/plain": [
       "['apical', 'axon', 'basal', 'obliques', 'soma']"
      ]
     },
     "execution_count": 34,
     "metadata": {},
     "output_type": "execute_result"
    }
   ],
   "source": [
    "sorted([\"soma\", \"basal\", \"apical\", \"axon\", \"obliques\"])"
   ]
  },
  {
   "cell_type": "markdown",
   "metadata": {},
   "source": [
    "Here we have sorted by alphabetical order. If our list had only numbers, it would by default sort by numerical order:"
   ]
  },
  {
   "cell_type": "code",
   "execution_count": 35,
   "metadata": {
    "execution": {
     "iopub.execute_input": "2024-03-22T10:49:58.529667Z",
     "iopub.status.busy": "2024-03-22T10:49:58.529335Z",
     "iopub.status.idle": "2024-03-22T10:49:58.533091Z",
     "shell.execute_reply": "2024-03-22T10:49:58.532500Z"
    }
   },
   "outputs": [
    {
     "data": {
      "text/plain": [
       "[1, 1.51, 4, 6, 165]"
      ]
     },
     "execution_count": 35,
     "metadata": {},
     "output_type": "execute_result"
    }
   ],
   "source": [
    "sorted([6, 1, 165, 1.51, 4])"
   ]
  },
  {
   "cell_type": "markdown",
   "metadata": {},
   "source": [
    "If we wanted to sort by another attribute, we can specify a function that returns that attribute value as the optional <tt>key</tt> keyword argument. For example, to sort our list of neuron parts by the length of the name (returned by the function <tt>len</tt>):"
   ]
  },
  {
   "cell_type": "code",
   "execution_count": 36,
   "metadata": {
    "execution": {
     "iopub.execute_input": "2024-03-22T10:49:58.535209Z",
     "iopub.status.busy": "2024-03-22T10:49:58.535039Z",
     "iopub.status.idle": "2024-03-22T10:49:58.539383Z",
     "shell.execute_reply": "2024-03-22T10:49:58.538940Z"
    }
   },
   "outputs": [
    {
     "data": {
      "text/plain": [
       "['soma', 'axon', 'basal', 'apical', 'obliques']"
      ]
     },
     "execution_count": 36,
     "metadata": {},
     "output_type": "execute_result"
    }
   ],
   "source": [
    "sorted([\"soma\", \"basal\", \"apical\", \"axon\", \"obliques\"], key=len)"
   ]
  },
  {
   "cell_type": "markdown",
   "metadata": {},
   "source": [
    "<p>Lists can contain arbitrary data types, but if you find yourself doing this, you should probably consider making classes or dictionaries (described below).</p>"
   ]
  },
  {
   "cell_type": "code",
   "execution_count": 37,
   "metadata": {
    "execution": {
     "iopub.execute_input": "2024-03-22T10:49:58.541569Z",
     "iopub.status.busy": "2024-03-22T10:49:58.541231Z",
     "iopub.status.idle": "2024-03-22T10:49:58.544702Z",
     "shell.execute_reply": "2024-03-22T10:49:58.543933Z"
    }
   },
   "outputs": [
    {
     "name": "stdout",
     "output_type": "stream",
     "text": [
      "['abc', 1.0, 2, 'another string']\n",
      "another string\n"
     ]
    }
   ],
   "source": [
    "confusing_list = [\"abc\", 1.0, 2, \"another string\"]\n",
    "print(confusing_list)\n",
    "print(confusing_list[3])"
   ]
  },
  {
   "cell_type": "markdown",
   "metadata": {},
   "source": [
    "It is sometimes convenient to assign the elements of a list with a known length to an equivalent number of variables:"
   ]
  },
  {
   "cell_type": "code",
   "execution_count": 38,
   "metadata": {
    "execution": {
     "iopub.execute_input": "2024-03-22T10:49:58.546981Z",
     "iopub.status.busy": "2024-03-22T10:49:58.546671Z",
     "iopub.status.idle": "2024-03-22T10:49:58.549530Z",
     "shell.execute_reply": "2024-03-22T10:49:58.548943Z"
    }
   },
   "outputs": [
    {
     "name": "stdout",
     "output_type": "stream",
     "text": [
      "35\n"
     ]
    }
   ],
   "source": [
    "first, second, third = [42, 35, 25]\n",
    "print(second)"
   ]
  },
  {
   "cell_type": "markdown",
   "metadata": {},
   "source": [
    "The <tt>range</tt> function can be used to create a list-like object (prior to Python 3.0, it generated lists; beginning with 3.0, it generates a more memory efficient structure) of evenly spaced integers; a list can be produced from this using the <tt>list</tt> function. With one argument, range produces integers from 0 to the argument, with two integer arguments, it produces integers between the two values, and with three arguments, the third specifies the interval between the first two. The ending value is not included."
   ]
  },
  {
   "cell_type": "code",
   "execution_count": 39,
   "metadata": {
    "execution": {
     "iopub.execute_input": "2024-03-22T10:49:58.551813Z",
     "iopub.status.busy": "2024-03-22T10:49:58.551508Z",
     "iopub.status.idle": "2024-03-22T10:49:58.554544Z",
     "shell.execute_reply": "2024-03-22T10:49:58.553975Z"
    }
   },
   "outputs": [
    {
     "name": "stdout",
     "output_type": "stream",
     "text": [
      "[0, 1, 2, 3, 4, 5, 6, 7, 8, 9]\n"
     ]
    }
   ],
   "source": [
    "print(list(range(10)))  # [0, 1, 2, 3, 4, 5, 6, 7, 8, 9]"
   ]
  },
  {
   "cell_type": "code",
   "execution_count": 40,
   "metadata": {
    "execution": {
     "iopub.execute_input": "2024-03-22T10:49:58.556681Z",
     "iopub.status.busy": "2024-03-22T10:49:58.556383Z",
     "iopub.status.idle": "2024-03-22T10:49:58.559505Z",
     "shell.execute_reply": "2024-03-22T10:49:58.558899Z"
    }
   },
   "outputs": [
    {
     "name": "stdout",
     "output_type": "stream",
     "text": [
      "[0, 1, 2, 3, 4, 5, 6, 7, 8, 9]\n"
     ]
    }
   ],
   "source": [
    "print(list(range(0, 10)))  # [0, 1, 2, 3, 4, 5, 6, 7, 8, 9]"
   ]
  },
  {
   "cell_type": "code",
   "execution_count": 41,
   "metadata": {
    "execution": {
     "iopub.execute_input": "2024-03-22T10:49:58.561780Z",
     "iopub.status.busy": "2024-03-22T10:49:58.561467Z",
     "iopub.status.idle": "2024-03-22T10:49:58.564674Z",
     "shell.execute_reply": "2024-03-22T10:49:58.564014Z"
    }
   },
   "outputs": [
    {
     "name": "stdout",
     "output_type": "stream",
     "text": [
      "[3, 4, 5, 6, 7, 8, 9]\n"
     ]
    }
   ],
   "source": [
    "print(list(range(3, 10)))  # [3, 4, 5, 6, 7, 8, 9]"
   ]
  },
  {
   "cell_type": "code",
   "execution_count": 42,
   "metadata": {
    "execution": {
     "iopub.execute_input": "2024-03-22T10:49:58.566923Z",
     "iopub.status.busy": "2024-03-22T10:49:58.566624Z",
     "iopub.status.idle": "2024-03-22T10:49:58.569452Z",
     "shell.execute_reply": "2024-03-22T10:49:58.568865Z"
    }
   },
   "outputs": [
    {
     "name": "stdout",
     "output_type": "stream",
     "text": [
      "[0, 2, 4, 6, 8]\n"
     ]
    }
   ],
   "source": [
    "print(list(range(0, 10, 2)))  # [0, 2, 4, 6, 8]"
   ]
  },
  {
   "cell_type": "code",
   "execution_count": 43,
   "metadata": {
    "execution": {
     "iopub.execute_input": "2024-03-22T10:49:58.572619Z",
     "iopub.status.busy": "2024-03-22T10:49:58.572304Z",
     "iopub.status.idle": "2024-03-22T10:49:58.575128Z",
     "shell.execute_reply": "2024-03-22T10:49:58.574569Z"
    }
   },
   "outputs": [
    {
     "name": "stdout",
     "output_type": "stream",
     "text": [
      "[]\n"
     ]
    }
   ],
   "source": [
    "print(list(range(0, -10)))  # []"
   ]
  },
  {
   "cell_type": "code",
   "execution_count": 44,
   "metadata": {
    "execution": {
     "iopub.execute_input": "2024-03-22T10:49:58.577351Z",
     "iopub.status.busy": "2024-03-22T10:49:58.577041Z",
     "iopub.status.idle": "2024-03-22T10:49:58.580287Z",
     "shell.execute_reply": "2024-03-22T10:49:58.579580Z"
    }
   },
   "outputs": [
    {
     "name": "stdout",
     "output_type": "stream",
     "text": [
      "[0, -1, -2, -3, -4, -5, -6, -7, -8, -9]\n"
     ]
    }
   ],
   "source": [
    "print(list(range(0, -10, -1)))  # [0, -1, -2, -3, -4, -5, -6, -7, -8, -9]"
   ]
  },
  {
   "cell_type": "code",
   "execution_count": 45,
   "metadata": {
    "execution": {
     "iopub.execute_input": "2024-03-22T10:49:58.582357Z",
     "iopub.status.busy": "2024-03-22T10:49:58.582194Z",
     "iopub.status.idle": "2024-03-22T10:49:58.585469Z",
     "shell.execute_reply": "2024-03-22T10:49:58.584730Z"
    }
   },
   "outputs": [
    {
     "name": "stdout",
     "output_type": "stream",
     "text": [
      "[0, -2, -4, -6, -8]\n"
     ]
    }
   ],
   "source": [
    "print(list(range(0, -10, -2)))  # [0, -2, -4, -6, -8]"
   ]
  },
  {
   "cell_type": "markdown",
   "metadata": {},
   "source": [
    "For non-integer ranges, use <tt><a href=\"https://docs.scipy.org/doc/numpy/reference/generated/numpy.arange.html\">numpy.arange</a></tt> from the <tt><a href=\"http://www.numpy.org/\">numpy</a></tt> module."
   ]
  },
  {
   "cell_type": "markdown",
   "metadata": {},
   "source": [
    "### List comprehensions (set theory)"
   ]
  },
  {
   "cell_type": "markdown",
   "metadata": {},
   "source": [
    "List comprehensions provide a rule for building a list from another list (or any other Python iterable).\n",
    "\n",
    "For example, the list of all integers from 0 to 9 inclusive is <tt>range(10)</tt> as shown above. We can get a list of the squares of all those integers via:"
   ]
  },
  {
   "cell_type": "code",
   "execution_count": 46,
   "metadata": {
    "execution": {
     "iopub.execute_input": "2024-03-22T10:49:58.587782Z",
     "iopub.status.busy": "2024-03-22T10:49:58.587462Z",
     "iopub.status.idle": "2024-03-22T10:49:58.591790Z",
     "shell.execute_reply": "2024-03-22T10:49:58.591357Z"
    }
   },
   "outputs": [
    {
     "data": {
      "text/plain": [
       "[0, 1, 4, 9, 16, 25, 36, 49, 64, 81]"
      ]
     },
     "execution_count": 46,
     "metadata": {},
     "output_type": "execute_result"
    }
   ],
   "source": [
    "[x**2 for x in range(10)]"
   ]
  },
  {
   "cell_type": "markdown",
   "metadata": {},
   "source": [
    "Including an <tt>if</tt> condition allows us to filter the list:\n",
    "\n",
    "What are all the integers <tt>x</tt> between 0 and 29 inclusive that satisfy <tt>(x - 3) * (x - 10) == 0</tt>?"
   ]
  },
  {
   "cell_type": "code",
   "execution_count": 47,
   "metadata": {
    "execution": {
     "iopub.execute_input": "2024-03-22T10:49:58.594075Z",
     "iopub.status.busy": "2024-03-22T10:49:58.593757Z",
     "iopub.status.idle": "2024-03-22T10:49:58.597675Z",
     "shell.execute_reply": "2024-03-22T10:49:58.597019Z"
    }
   },
   "outputs": [
    {
     "data": {
      "text/plain": [
       "[3, 10]"
      ]
     },
     "execution_count": 47,
     "metadata": {},
     "output_type": "execute_result"
    }
   ],
   "source": [
    "[x for x in range(30) if (x - 3) * (x - 10) == 0]"
   ]
  },
  {
   "cell_type": "markdown",
   "metadata": {},
   "source": [
    "## For loops and iterators"
   ]
  },
  {
   "cell_type": "markdown",
   "metadata": {},
   "source": [
    "We can iterate over elements in a list by following the format: <tt>for element in list:</tt> Notice that indentation is important in Python! After a colon, the block needs to be indented. (Any consistent indentation will work, but the Python standard is 4 spaces)."
   ]
  },
  {
   "cell_type": "code",
   "execution_count": 48,
   "metadata": {
    "execution": {
     "iopub.execute_input": "2024-03-22T10:49:58.600044Z",
     "iopub.status.busy": "2024-03-22T10:49:58.599748Z",
     "iopub.status.idle": "2024-03-22T10:49:58.603131Z",
     "shell.execute_reply": "2024-03-22T10:49:58.602396Z"
    }
   },
   "outputs": [
    {
     "name": "stdout",
     "output_type": "stream",
     "text": [
      "soma\n",
      "axon\n",
      "dendrites\n"
     ]
    }
   ],
   "source": [
    "cell_parts = [\"soma\", \"axon\", \"dendrites\"]\n",
    "for part in cell_parts:\n",
    "    print(part)"
   ]
  },
  {
   "cell_type": "markdown",
   "metadata": {},
   "source": [
    "Note that we are iterating over the elements of a list; much of the time, the index of the items is irrelevant. If, on the other hand, we need to know the index as well, we can use <tt>enumerate</tt>:"
   ]
  },
  {
   "cell_type": "code",
   "execution_count": 49,
   "metadata": {
    "execution": {
     "iopub.execute_input": "2024-03-22T10:49:58.605437Z",
     "iopub.status.busy": "2024-03-22T10:49:58.605107Z",
     "iopub.status.idle": "2024-03-22T10:49:58.608711Z",
     "shell.execute_reply": "2024-03-22T10:49:58.607979Z"
    }
   },
   "outputs": [
    {
     "name": "stdout",
     "output_type": "stream",
     "text": [
      "0 soma\n",
      "1 axon\n",
      "2 dendrites\n"
     ]
    }
   ],
   "source": [
    "cell_parts = [\"soma\", \"axon\", \"dendrites\"]\n",
    "for part_num, part in enumerate(cell_parts):\n",
    "    print(\"%d %s\" % (part_num, part))"
   ]
  },
  {
   "cell_type": "markdown",
   "metadata": {},
   "source": [
    "Multiple aligned lists (such as occurs with time series data) can be looped over simultaneously using <tt>zip</tt>:"
   ]
  },
  {
   "cell_type": "code",
   "execution_count": 50,
   "metadata": {
    "execution": {
     "iopub.execute_input": "2024-03-22T10:49:58.610980Z",
     "iopub.status.busy": "2024-03-22T10:49:58.610658Z",
     "iopub.status.idle": "2024-03-22T10:49:58.614165Z",
     "shell.execute_reply": "2024-03-22T10:49:58.613622Z"
    }
   },
   "outputs": [
    {
     "name": "stdout",
     "output_type": "stream",
     "text": [
      "      soma 20\n",
      "      axon 2\n",
      " dendrites 3\n"
     ]
    }
   ],
   "source": [
    "cell_parts = [\"soma\", \"axon\", \"dendrites\"]\n",
    "diams = [20, 2, 3]\n",
    "for diam, part in zip(diams, cell_parts):\n",
    "    print(\"%10s %g\" % (part, diam))"
   ]
  },
  {
   "cell_type": "markdown",
   "metadata": {},
   "source": [
    "Another example:"
   ]
  },
  {
   "cell_type": "code",
   "execution_count": 51,
   "metadata": {
    "execution": {
     "iopub.execute_input": "2024-03-22T10:49:58.616489Z",
     "iopub.status.busy": "2024-03-22T10:49:58.616156Z",
     "iopub.status.idle": "2024-03-22T10:49:58.620094Z",
     "shell.execute_reply": "2024-03-22T10:49:58.619250Z"
    }
   },
   "outputs": [
    {
     "name": "stdout",
     "output_type": "stream",
     "text": [
      "x = [0, 1, 2, 3, 4]\n",
      "y = ['a', 'b', 'c', 'd', 'e']\n",
      "[(0, 'a'), (1, 'b'), (2, 'c'), (3, 'd'), (4, 'e')]\n"
     ]
    }
   ],
   "source": [
    "y = [\"a\", \"b\", \"c\", \"d\", \"e\"]\n",
    "x = list(range(len(y)))\n",
    "print(\"x = {}\".format(x))\n",
    "print(\"y = {}\".format(y))\n",
    "print(list(zip(x, y)))"
   ]
  },
  {
   "cell_type": "markdown",
   "metadata": {},
   "source": [
    "This is a list of tuples. Given a list of tuples, then we iterate with each tuple."
   ]
  },
  {
   "cell_type": "code",
   "execution_count": 52,
   "metadata": {
    "execution": {
     "iopub.execute_input": "2024-03-22T10:49:58.622179Z",
     "iopub.status.busy": "2024-03-22T10:49:58.622010Z",
     "iopub.status.idle": "2024-03-22T10:49:58.625444Z",
     "shell.execute_reply": "2024-03-22T10:49:58.624836Z"
    }
   },
   "outputs": [
    {
     "name": "stdout",
     "output_type": "stream",
     "text": [
      "index 0: a\n",
      "index 1: b\n",
      "index 2: c\n",
      "index 3: d\n",
      "index 4: e\n"
     ]
    }
   ],
   "source": [
    "for x_val, y_val in zip(x, y):\n",
    "    print(\"index {}: {}\".format(x_val, y_val))"
   ]
  },
  {
   "cell_type": "markdown",
   "metadata": {},
   "source": [
    "Tuples are similar to lists, except they are immutable (cannot be changed). You can retrieve individual elements of a tuple, but once they are set upon creation, you cannot change them. Also, you cannot add or remove elements of a tuple."
   ]
  },
  {
   "cell_type": "code",
   "execution_count": 53,
   "metadata": {
    "execution": {
     "iopub.execute_input": "2024-03-22T10:49:58.627663Z",
     "iopub.status.busy": "2024-03-22T10:49:58.627407Z",
     "iopub.status.idle": "2024-03-22T10:49:58.630790Z",
     "shell.execute_reply": "2024-03-22T10:49:58.630223Z"
    }
   },
   "outputs": [
    {
     "name": "stdout",
     "output_type": "stream",
     "text": [
      "(1, 'two', 3)\n",
      "two\n"
     ]
    }
   ],
   "source": [
    "my_tuple = (1, \"two\", 3)\n",
    "print(my_tuple)\n",
    "print(my_tuple[1])"
   ]
  },
  {
   "cell_type": "markdown",
   "metadata": {},
   "source": [
    "Attempting to modify a tuple, e.g."
   ]
  },
  {
   "cell_type": "markdown",
   "metadata": {},
   "source": [
    "```python\n",
    "my_tuple[1] = 2\n",
    "```"
   ]
  },
  {
   "cell_type": "markdown",
   "metadata": {},
   "source": [
    "will cause a <a class=\"reference external\" href=\"https://docs.python.org/3/library/exceptions.html#TypeError\" title=\"(in Python v3.6)\"><code class=\"xref py py-class docutils literal\"><span class=\"pre\">TypeError</span></code></a>."
   ]
  },
  {
   "cell_type": "markdown",
   "metadata": {},
   "source": [
    "Because you cannot modify an element in a tuple, or add or remove individual elements of it, it can operate in Python more efficiently than a list. A tuple can even serve as a key to a dictionary."
   ]
  },
  {
   "cell_type": "markdown",
   "metadata": {},
   "source": [
    "## Dictionaries"
   ]
  },
  {
   "cell_type": "markdown",
   "metadata": {},
   "source": [
    "A dictionary (also called a dict or hash table) is a set of (key, value) pairs, denoted by curly brackets:"
   ]
  },
  {
   "cell_type": "code",
   "execution_count": 54,
   "metadata": {
    "execution": {
     "iopub.execute_input": "2024-03-22T10:49:58.633553Z",
     "iopub.status.busy": "2024-03-22T10:49:58.633175Z",
     "iopub.status.idle": "2024-03-22T10:49:58.636527Z",
     "shell.execute_reply": "2024-03-22T10:49:58.635850Z"
    }
   },
   "outputs": [
    {
     "name": "stdout",
     "output_type": "stream",
     "text": [
      "{'name': 'Tom', 'age': 45, 'height': \"5'8\"}\n"
     ]
    }
   ],
   "source": [
    "about_me = {\"name\": my_name, \"age\": my_age, \"height\": \"5'8\"}\n",
    "print(about_me)"
   ]
  },
  {
   "cell_type": "markdown",
   "metadata": {},
   "source": [
    "You can obtain values by referencing the key:"
   ]
  },
  {
   "cell_type": "code",
   "execution_count": 55,
   "metadata": {
    "execution": {
     "iopub.execute_input": "2024-03-22T10:49:58.638742Z",
     "iopub.status.busy": "2024-03-22T10:49:58.638447Z",
     "iopub.status.idle": "2024-03-22T10:49:58.641765Z",
     "shell.execute_reply": "2024-03-22T10:49:58.640854Z"
    }
   },
   "outputs": [
    {
     "name": "stdout",
     "output_type": "stream",
     "text": [
      "5'8\n"
     ]
    }
   ],
   "source": [
    "print(about_me[\"height\"])"
   ]
  },
  {
   "cell_type": "markdown",
   "metadata": {},
   "source": [
    "Similarly, we can modify existing values by referencing the key."
   ]
  },
  {
   "cell_type": "code",
   "execution_count": 56,
   "metadata": {
    "execution": {
     "iopub.execute_input": "2024-03-22T10:49:58.643869Z",
     "iopub.status.busy": "2024-03-22T10:49:58.643696Z",
     "iopub.status.idle": "2024-03-22T10:49:58.646700Z",
     "shell.execute_reply": "2024-03-22T10:49:58.646155Z"
    }
   },
   "outputs": [
    {
     "name": "stdout",
     "output_type": "stream",
     "text": [
      "{'name': 'Thomas', 'age': 45, 'height': \"5'8\"}\n"
     ]
    }
   ],
   "source": [
    "about_me[\"name\"] = \"Thomas\"\n",
    "print(about_me)"
   ]
  },
  {
   "cell_type": "markdown",
   "metadata": {},
   "source": [
    "We can even add new values."
   ]
  },
  {
   "cell_type": "code",
   "execution_count": 57,
   "metadata": {
    "execution": {
     "iopub.execute_input": "2024-03-22T10:49:58.649013Z",
     "iopub.status.busy": "2024-03-22T10:49:58.648716Z",
     "iopub.status.idle": "2024-03-22T10:49:58.651782Z",
     "shell.execute_reply": "2024-03-22T10:49:58.651161Z"
    }
   },
   "outputs": [
    {
     "name": "stdout",
     "output_type": "stream",
     "text": [
      "{'name': 'Thomas', 'age': 45, 'height': \"5'8\", 'eye_color': 'brown'}\n"
     ]
    }
   ],
   "source": [
    "about_me[\"eye_color\"] = \"brown\"\n",
    "print(about_me)"
   ]
  },
  {
   "cell_type": "markdown",
   "metadata": {},
   "source": [
    "We can use curly braces with keys to indicate dictionary fields when using <tt>format</tt>. e.g."
   ]
  },
  {
   "cell_type": "code",
   "execution_count": 58,
   "metadata": {
    "execution": {
     "iopub.execute_input": "2024-03-22T10:49:58.654079Z",
     "iopub.status.busy": "2024-03-22T10:49:58.653782Z",
     "iopub.status.idle": "2024-03-22T10:49:58.657022Z",
     "shell.execute_reply": "2024-03-22T10:49:58.656294Z"
    }
   },
   "outputs": [
    {
     "name": "stdout",
     "output_type": "stream",
     "text": [
      "I am a 45 year old person named Thomas. Again, my name is Thomas.\n"
     ]
    }
   ],
   "source": [
    "print(\n",
    "    \"I am a {age} year old person named {name}. Again, my name is {name}.\".format(\n",
    "        **about_me\n",
    "    )\n",
    ")"
   ]
  },
  {
   "cell_type": "markdown",
   "metadata": {},
   "source": [
    "Important: note the use of the <tt>**</tt> inside the <tt>format</tt> call."
   ]
  },
  {
   "cell_type": "markdown",
   "metadata": {},
   "source": [
    "We can iterate keys (<tt>.keys()</tt>), values (<tt>.values()</tt>) or key-value value pairs (<tt>.items()</tt>)in the dict. Here is an example of key-value pairs."
   ]
  },
  {
   "cell_type": "code",
   "execution_count": 59,
   "metadata": {
    "execution": {
     "iopub.execute_input": "2024-03-22T10:49:58.659365Z",
     "iopub.status.busy": "2024-03-22T10:49:58.659051Z",
     "iopub.status.idle": "2024-03-22T10:49:58.662415Z",
     "shell.execute_reply": "2024-03-22T10:49:58.661825Z"
    }
   },
   "outputs": [
    {
     "name": "stdout",
     "output_type": "stream",
     "text": [
      "key = name          val = Thomas\n",
      "key = age           val = 45\n",
      "key = height        val = 5'8\n",
      "key = eye_color     val = brown\n"
     ]
    }
   ],
   "source": [
    "for k, v in about_me.items():\n",
    "    print(\"key = {:10s}    val = {}\".format(k, v))"
   ]
  },
  {
   "cell_type": "markdown",
   "metadata": {},
   "source": [
    "To test for the presence of a key in a dict, we just ask:"
   ]
  },
  {
   "cell_type": "code",
   "execution_count": 60,
   "metadata": {
    "execution": {
     "iopub.execute_input": "2024-03-22T10:49:58.664693Z",
     "iopub.status.busy": "2024-03-22T10:49:58.664405Z",
     "iopub.status.idle": "2024-03-22T10:49:58.667583Z",
     "shell.execute_reply": "2024-03-22T10:49:58.666688Z"
    }
   },
   "outputs": [
    {
     "name": "stdout",
     "output_type": "stream",
     "text": [
      "No. 'hair_color' is NOT a key in the dict\n"
     ]
    }
   ],
   "source": [
    "if \"hair_color\" in about_me:\n",
    "    print(\"Yes. 'hair_color' is a key in the dict\")\n",
    "else:\n",
    "    print(\"No. 'hair_color' is NOT a key in the dict\")"
   ]
  },
  {
   "cell_type": "markdown",
   "metadata": {},
   "source": [
    "Dictionaries can be nested, e.g."
   ]
  },
  {
   "cell_type": "code",
   "execution_count": 61,
   "metadata": {
    "execution": {
     "iopub.execute_input": "2024-03-22T10:49:58.669786Z",
     "iopub.status.busy": "2024-03-22T10:49:58.669631Z",
     "iopub.status.idle": "2024-03-22T10:49:58.673164Z",
     "shell.execute_reply": "2024-03-22T10:49:58.672505Z"
    }
   },
   "outputs": [
    {
     "name": "stdout",
     "output_type": "stream",
     "text": [
      "cerebellum\n"
     ]
    }
   ],
   "source": [
    "neurons = {\n",
    "    \"purkinje cells\": {\"location\": \"cerebellum\", \"role\": \"motor movement\"},\n",
    "    \"ca1 pyramidal cells\": {\"location\": \"hippocampus\", \"role\": \"learning and memory\"},\n",
    "}\n",
    "print(neurons[\"purkinje cells\"][\"location\"])"
   ]
  },
  {
   "cell_type": "markdown",
   "metadata": {},
   "source": [
    "## Functions"
   ]
  },
  {
   "cell_type": "markdown",
   "metadata": {},
   "source": [
    "Functions are defined with a “def” keyword in front of them, end with a colon, and the next line is indented. Indentation of 4-spaces (again, any non-zero consistent amount will do) demarcates functional blocks."
   ]
  },
  {
   "cell_type": "code",
   "execution_count": 62,
   "metadata": {
    "execution": {
     "iopub.execute_input": "2024-03-22T10:49:58.675433Z",
     "iopub.status.busy": "2024-03-22T10:49:58.675111Z",
     "iopub.status.idle": "2024-03-22T10:49:58.677746Z",
     "shell.execute_reply": "2024-03-22T10:49:58.677117Z"
    }
   },
   "outputs": [],
   "source": [
    "def print_hello():\n",
    "    print(\"Hello\")"
   ]
  },
  {
   "cell_type": "markdown",
   "metadata": {},
   "source": [
    "Now let's call our function."
   ]
  },
  {
   "cell_type": "code",
   "execution_count": 63,
   "metadata": {
    "execution": {
     "iopub.execute_input": "2024-03-22T10:49:58.679859Z",
     "iopub.status.busy": "2024-03-22T10:49:58.679687Z",
     "iopub.status.idle": "2024-03-22T10:49:58.682614Z",
     "shell.execute_reply": "2024-03-22T10:49:58.681787Z"
    }
   },
   "outputs": [
    {
     "name": "stdout",
     "output_type": "stream",
     "text": [
      "Hello\n"
     ]
    }
   ],
   "source": [
    "print_hello()"
   ]
  },
  {
   "cell_type": "markdown",
   "metadata": {},
   "source": [
    "We can also pass in an argument."
   ]
  },
  {
   "cell_type": "code",
   "execution_count": 64,
   "metadata": {
    "execution": {
     "iopub.execute_input": "2024-03-22T10:49:58.684821Z",
     "iopub.status.busy": "2024-03-22T10:49:58.684653Z",
     "iopub.status.idle": "2024-03-22T10:49:58.687367Z",
     "shell.execute_reply": "2024-03-22T10:49:58.686870Z"
    }
   },
   "outputs": [],
   "source": [
    "def my_print(the_arg):\n",
    "    print(the_arg)"
   ]
  },
  {
   "cell_type": "markdown",
   "metadata": {},
   "source": [
    "Now try passing various things to the <tt>my_print()</tt> function."
   ]
  },
  {
   "cell_type": "code",
   "execution_count": 65,
   "metadata": {
    "execution": {
     "iopub.execute_input": "2024-03-22T10:49:58.689530Z",
     "iopub.status.busy": "2024-03-22T10:49:58.689220Z",
     "iopub.status.idle": "2024-03-22T10:49:58.692311Z",
     "shell.execute_reply": "2024-03-22T10:49:58.691580Z"
    }
   },
   "outputs": [
    {
     "name": "stdout",
     "output_type": "stream",
     "text": [
      "Hello\n"
     ]
    }
   ],
   "source": [
    "my_print(\"Hello\")"
   ]
  },
  {
   "cell_type": "markdown",
   "metadata": {},
   "source": [
    "We can even make default arguments."
   ]
  },
  {
   "cell_type": "code",
   "execution_count": 66,
   "metadata": {
    "execution": {
     "iopub.execute_input": "2024-03-22T10:49:58.694441Z",
     "iopub.status.busy": "2024-03-22T10:49:58.694272Z",
     "iopub.status.idle": "2024-03-22T10:49:58.697587Z",
     "shell.execute_reply": "2024-03-22T10:49:58.696811Z"
    }
   },
   "outputs": [
    {
     "name": "stdout",
     "output_type": "stream",
     "text": [
      "Hello\n",
      "[0, 1, 2, 3]\n"
     ]
    }
   ],
   "source": [
    "def my_print(message=\"Hello\"):\n",
    "    print(message)\n",
    "\n",
    "\n",
    "my_print()\n",
    "my_print(list(range(4)))"
   ]
  },
  {
   "cell_type": "markdown",
   "metadata": {},
   "source": [
    "And we can also return values."
   ]
  },
  {
   "cell_type": "code",
   "execution_count": 67,
   "metadata": {
    "execution": {
     "iopub.execute_input": "2024-03-22T10:49:58.699627Z",
     "iopub.status.busy": "2024-03-22T10:49:58.699463Z",
     "iopub.status.idle": "2024-03-22T10:49:58.703729Z",
     "shell.execute_reply": "2024-03-22T10:49:58.703074Z"
    }
   },
   "outputs": [
    {
     "name": "stdout",
     "output_type": "stream",
     "text": [
      "[0, 1, 1, 2, 3]\n"
     ]
    }
   ],
   "source": [
    "def fib(n=5):\n",
    "    \"\"\"Get a Fibonacci series up to n.\"\"\"\n",
    "    a, b = 0, 1\n",
    "    series = [a]\n",
    "    while b < n:\n",
    "        a, b = b, a + b\n",
    "        series.append(a)\n",
    "    return series\n",
    "\n",
    "\n",
    "print(fib())"
   ]
  },
  {
   "cell_type": "markdown",
   "metadata": {},
   "source": [
    "Note the assignment line for a and b inside the while loop. That line says that a becomes the old value of b and that b becomes the old value of a plus the old value of b. The ability to calculate multiple values before assigning them allows Python to do things like swapping the values of two variables in one line while many other programming languages would require the introduction of a temporary variable.\n",
    "\n",
    "When a function begins with a string as in the above, that string is known as a doc string, and is shown whenever <tt>help</tt> is invoked on the function (this, by the way, is a way to learn more about Python's many functions):"
   ]
  },
  {
   "cell_type": "code",
   "execution_count": 68,
   "metadata": {
    "execution": {
     "iopub.execute_input": "2024-03-22T10:49:58.705965Z",
     "iopub.status.busy": "2024-03-22T10:49:58.705558Z",
     "iopub.status.idle": "2024-03-22T10:49:58.708788Z",
     "shell.execute_reply": "2024-03-22T10:49:58.708325Z"
    }
   },
   "outputs": [
    {
     "name": "stdout",
     "output_type": "stream",
     "text": [
      "Help on function fib in module __main__:\n",
      "\n",
      "fib(n=5)\n",
      "    Get a Fibonacci series up to n.\n",
      "\n"
     ]
    }
   ],
   "source": [
    "help(fib)"
   ]
  },
  {
   "cell_type": "markdown",
   "metadata": {},
   "source": [
    "You may have noticed the string beginning the <tt>fib</tt> function was triple-quoted. This enables a string to span multiple lines."
   ]
  },
  {
   "cell_type": "code",
   "execution_count": 69,
   "metadata": {
    "execution": {
     "iopub.execute_input": "2024-03-22T10:49:58.711351Z",
     "iopub.status.busy": "2024-03-22T10:49:58.710930Z",
     "iopub.status.idle": "2024-03-22T10:49:58.714267Z",
     "shell.execute_reply": "2024-03-22T10:49:58.713639Z"
    }
   },
   "outputs": [
    {
     "name": "stdout",
     "output_type": "stream",
     "text": [
      "This is the first line\n",
      "This is the second,\n",
      "and a third.\n"
     ]
    }
   ],
   "source": [
    "multi_line_str = \"\"\"This is the first line\n",
    "This is the second,\n",
    "and a third.\"\"\"\n",
    "\n",
    "print(multi_line_str)"
   ]
  },
  {
   "cell_type": "markdown",
   "metadata": {},
   "source": [
    "## Classes"
   ]
  },
  {
   "cell_type": "markdown",
   "metadata": {},
   "source": [
    "Objects are instances of a <tt>class</tt>. They are useful for encapsulating ideas, and mostly for having multiple instances of a structure. (In NEURON, for example, one might use a class to represent a neuron type and create many instances.) Usually you will have an <tt>__init__()</tt> method. Also note that every method of the class will have <tt>self</tt> as the first argument. While <tt>self</tt> has to be listed in the argument list of a class's method, you do not pass a <tt>self</tt> argument when calling any of the class’s methods; instead, you refer to those methods as <tt>self.method_name</tt>."
   ]
  },
  {
   "cell_type": "code",
   "execution_count": 70,
   "metadata": {
    "execution": {
     "iopub.execute_input": "2024-03-22T10:49:58.716773Z",
     "iopub.status.busy": "2024-03-22T10:49:58.716404Z",
     "iopub.status.idle": "2024-03-22T10:49:58.720652Z",
     "shell.execute_reply": "2024-03-22T10:49:58.720123Z"
    }
   },
   "outputs": [],
   "source": [
    "class Contact(object):\n",
    "    \"\"\"A given person for my database of friends.\"\"\"\n",
    "\n",
    "    def __init__(self, first_name=None, last_name=None, email=None, phone=None):\n",
    "        self.first_name = first_name\n",
    "        self.last_name = last_name\n",
    "        self.email = email\n",
    "        self.phone = phone\n",
    "\n",
    "    def print_info(self):\n",
    "        \"\"\"Print all of the information of this contact.\"\"\"\n",
    "        my_str = \"Contact info:\"\n",
    "        if self.first_name:\n",
    "            my_str += \" \" + self.first_name\n",
    "        if self.last_name:\n",
    "            my_str += \" \" + self.last_name\n",
    "        if self.email:\n",
    "            my_str += \" \" + self.email\n",
    "        if self.phone:\n",
    "            my_str += \" \" + self.phone\n",
    "        print(my_str)"
   ]
  },
  {
   "cell_type": "markdown",
   "metadata": {},
   "source": [
    "By convention, the first letter of a class name is capitalized. Notice in the class definition above that the object can contain fields, which are used within the class as <tt>self.field</tt>. This field can be another method in the class, or another object of another class."
   ]
  },
  {
   "cell_type": "markdown",
   "metadata": {},
   "source": [
    "Let's make a couple instances of Contact."
   ]
  },
  {
   "cell_type": "code",
   "execution_count": 71,
   "metadata": {
    "execution": {
     "iopub.execute_input": "2024-03-22T10:49:58.722924Z",
     "iopub.status.busy": "2024-03-22T10:49:58.722607Z",
     "iopub.status.idle": "2024-03-22T10:49:58.725569Z",
     "shell.execute_reply": "2024-03-22T10:49:58.724684Z"
    }
   },
   "outputs": [],
   "source": [
    "bob = Contact(\"Bob\", \"Smith\")\n",
    "joe = Contact(email=\"someone@somewhere.com\")"
   ]
  },
  {
   "cell_type": "markdown",
   "metadata": {},
   "source": [
    "Notice that in the first case, if we are filling each argument, we do not need to explicitly denote “first_name” and “last_name”. However, in the second case, since “first” and “last” are omitted, the first parameter passed in would be assigned to the first_name field so we have to explicitly set it to “email”."
   ]
  },
  {
   "cell_type": "markdown",
   "metadata": {},
   "source": [
    "Let’s set a field."
   ]
  },
  {
   "cell_type": "code",
   "execution_count": 72,
   "metadata": {
    "execution": {
     "iopub.execute_input": "2024-03-22T10:49:58.727831Z",
     "iopub.status.busy": "2024-03-22T10:49:58.727662Z",
     "iopub.status.idle": "2024-03-22T10:49:58.730243Z",
     "shell.execute_reply": "2024-03-22T10:49:58.729566Z"
    }
   },
   "outputs": [],
   "source": [
    "joe.first_name = \"Joe\""
   ]
  },
  {
   "cell_type": "markdown",
   "metadata": {},
   "source": [
    "Similarly, we can retrieve fields from the object."
   ]
  },
  {
   "cell_type": "code",
   "execution_count": 73,
   "metadata": {
    "execution": {
     "iopub.execute_input": "2024-03-22T10:49:58.732406Z",
     "iopub.status.busy": "2024-03-22T10:49:58.732239Z",
     "iopub.status.idle": "2024-03-22T10:49:58.735068Z",
     "shell.execute_reply": "2024-03-22T10:49:58.734379Z"
    }
   },
   "outputs": [
    {
     "name": "stdout",
     "output_type": "stream",
     "text": [
      "Joe\n"
     ]
    }
   ],
   "source": [
    "the_name = joe.first_name\n",
    "print(the_name)"
   ]
  },
  {
   "cell_type": "markdown",
   "metadata": {},
   "source": [
    "And we call methods of the object using the format instance.method()."
   ]
  },
  {
   "cell_type": "code",
   "execution_count": 74,
   "metadata": {
    "execution": {
     "iopub.execute_input": "2024-03-22T10:49:58.737550Z",
     "iopub.status.busy": "2024-03-22T10:49:58.737207Z",
     "iopub.status.idle": "2024-03-22T10:49:58.739949Z",
     "shell.execute_reply": "2024-03-22T10:49:58.739335Z"
    }
   },
   "outputs": [
    {
     "name": "stdout",
     "output_type": "stream",
     "text": [
      "Contact info: Joe someone@somewhere.com\n"
     ]
    }
   ],
   "source": [
    "joe.print_info()"
   ]
  },
  {
   "cell_type": "markdown",
   "metadata": {},
   "source": [
    "Remember the importance of docstrings!"
   ]
  },
  {
   "cell_type": "code",
   "execution_count": 75,
   "metadata": {
    "execution": {
     "iopub.execute_input": "2024-03-22T10:49:58.742288Z",
     "iopub.status.busy": "2024-03-22T10:49:58.741973Z",
     "iopub.status.idle": "2024-03-22T10:49:58.745100Z",
     "shell.execute_reply": "2024-03-22T10:49:58.744552Z"
    }
   },
   "outputs": [
    {
     "name": "stdout",
     "output_type": "stream",
     "text": [
      "Help on class Contact in module __main__:\n",
      "\n",
      "class Contact(builtins.object)\n",
      " |  Contact(first_name=None, last_name=None, email=None, phone=None)\n",
      " |  \n",
      " |  A given person for my database of friends.\n",
      " |  \n",
      " |  Methods defined here:\n",
      " |  \n",
      " |  __init__(self, first_name=None, last_name=None, email=None, phone=None)\n",
      " |      Initialize self.  See help(type(self)) for accurate signature.\n",
      " |  \n",
      " |  print_info(self)\n",
      " |      Print all of the information of this contact.\n",
      " |  \n",
      " |  ----------------------------------------------------------------------\n",
      " |  Data descriptors defined here:\n",
      " |  \n",
      " |  __dict__\n",
      " |      dictionary for instance variables\n",
      " |  \n",
      " |  __weakref__\n",
      " |      list of weak references to the object\n",
      "\n"
     ]
    }
   ],
   "source": [
    "help(Contact)"
   ]
  },
  {
   "cell_type": "markdown",
   "metadata": {},
   "source": [
    "## Importing modules"
   ]
  },
  {
   "cell_type": "markdown",
   "metadata": {},
   "source": [
    "Extensions to core Python are made by importing modules, which may contain more variables, objects, methods, and functions. Many modules come with Python, but are not part of its core. Other packages and modules have to be installed.\n",
    "\n",
    "The <tt>numpy</tt> module contains a function called <tt>arange()</tt> that is similar to Python’s <tt>range()</tt> function, but permits non-integer steps."
   ]
  },
  {
   "cell_type": "code",
   "execution_count": 76,
   "metadata": {
    "execution": {
     "iopub.execute_input": "2024-03-22T10:49:58.747610Z",
     "iopub.status.busy": "2024-03-22T10:49:58.747295Z",
     "iopub.status.idle": "2024-03-22T10:49:58.809937Z",
     "shell.execute_reply": "2024-03-22T10:49:58.809381Z"
    }
   },
   "outputs": [
    {
     "name": "stdout",
     "output_type": "stream",
     "text": [
      "[0.  0.1 0.2 0.3 0.4 0.5 0.6 0.7 0.8 0.9]"
     ]
    },
    {
     "name": "stdout",
     "output_type": "stream",
     "text": [
      "\n"
     ]
    }
   ],
   "source": [
    "import numpy\n",
    "\n",
    "my_vec = numpy.arange(0, 1, 0.1)\n",
    "print(my_vec)"
   ]
  },
  {
   "cell_type": "markdown",
   "metadata": {},
   "source": [
    "<b>Note</b>: <tt>numpy</tt> is available in many distributions of Python, but it is not part of Python itself. If the <tt>import numpy</tt> line gave an error message, you either do not have numpy installed or Python cannot find it for some reason. You should resolve this issue before proceeding because we will use numpy in some of the examples in other parts of the tutorial. The standard tool for installing Python modules is called pip; other options may be available depending on your platform."
   ]
  },
  {
   "cell_type": "markdown",
   "metadata": {},
   "source": [
    "We can get 20 evenly spaced values between 0 and $\\pi$ using <tt>numpy.linspace</tt>:"
   ]
  },
  {
   "cell_type": "code",
   "execution_count": 77,
   "metadata": {
    "execution": {
     "iopub.execute_input": "2024-03-22T10:49:58.813605Z",
     "iopub.status.busy": "2024-03-22T10:49:58.813338Z",
     "iopub.status.idle": "2024-03-22T10:49:58.817928Z",
     "shell.execute_reply": "2024-03-22T10:49:58.817382Z"
    }
   },
   "outputs": [],
   "source": [
    "x = numpy.linspace(0, numpy.pi, 20)"
   ]
  },
  {
   "cell_type": "code",
   "execution_count": 78,
   "metadata": {
    "execution": {
     "iopub.execute_input": "2024-03-22T10:49:58.821552Z",
     "iopub.status.busy": "2024-03-22T10:49:58.821351Z",
     "iopub.status.idle": "2024-03-22T10:49:58.828601Z",
     "shell.execute_reply": "2024-03-22T10:49:58.828122Z"
    }
   },
   "outputs": [
    {
     "name": "stdout",
     "output_type": "stream",
     "text": [
      "[0.         0.16534698 0.33069396 0.49604095 0.66138793 0.82673491\n",
      " 0.99208189 1.15742887 1.32277585 1.48812284 1.65346982 1.8188168\n",
      " 1.98416378 2.14951076 2.31485774 2.48020473 2.64555171 2.81089869\n",
      " 2.97624567 3.14159265]\n"
     ]
    }
   ],
   "source": [
    "print(x)"
   ]
  },
  {
   "cell_type": "markdown",
   "metadata": {},
   "source": [
    "NumPy provides vectorized trig (and other) functions. For example, we can get another array with the sines of all those x values via:"
   ]
  },
  {
   "cell_type": "code",
   "execution_count": 79,
   "metadata": {
    "execution": {
     "iopub.execute_input": "2024-03-22T10:49:58.833576Z",
     "iopub.status.busy": "2024-03-22T10:49:58.831976Z",
     "iopub.status.idle": "2024-03-22T10:49:58.837299Z",
     "shell.execute_reply": "2024-03-22T10:49:58.836803Z"
    }
   },
   "outputs": [],
   "source": [
    "y = numpy.sin(x)"
   ]
  },
  {
   "cell_type": "code",
   "execution_count": 80,
   "metadata": {
    "execution": {
     "iopub.execute_input": "2024-03-22T10:49:58.842484Z",
     "iopub.status.busy": "2024-03-22T10:49:58.840869Z",
     "iopub.status.idle": "2024-03-22T10:49:58.848009Z",
     "shell.execute_reply": "2024-03-22T10:49:58.846648Z"
    }
   },
   "outputs": [
    {
     "name": "stdout",
     "output_type": "stream",
     "text": [
      "[0.00000000e+00 1.64594590e-01 3.24699469e-01 4.75947393e-01\n",
      " 6.14212713e-01 7.35723911e-01 8.37166478e-01 9.15773327e-01\n",
      " 9.69400266e-01 9.96584493e-01 9.96584493e-01 9.69400266e-01\n",
      " 9.15773327e-01 8.37166478e-01 7.35723911e-01 6.14212713e-01\n",
      " 4.75947393e-01 3.24699469e-01 1.64594590e-01 1.22464680e-16]"
     ]
    },
    {
     "name": "stdout",
     "output_type": "stream",
     "text": [
      "\n"
     ]
    }
   ],
   "source": [
    "print(y)"
   ]
  },
  {
   "cell_type": "markdown",
   "metadata": {},
   "source": [
    "The <tt>bokeh</tt> module is one way to plot graphics that works especially well in a Jupyter notebook environment. To use this library in a Jupyter notebook, we first load it and tell it to display in the notebook:"
   ]
  },
  {
   "cell_type": "code",
   "execution_count": 81,
   "metadata": {
    "execution": {
     "iopub.execute_input": "2024-03-22T10:49:58.853778Z",
     "iopub.status.busy": "2024-03-22T10:49:58.853601Z",
     "iopub.status.idle": "2024-03-22T10:49:59.194566Z",
     "shell.execute_reply": "2024-03-22T10:49:59.193892Z"
    }
   },
   "outputs": [
    {
     "data": {
      "text/html": [
       "<div class=\"bk-root\">\n",
       "        <a href=\"https://bokeh.org\" target=\"_blank\" class=\"bk-logo bk-logo-small bk-logo-notebook\"></a>\n",
       "        <span id=\"1002\">Loading BokehJS ...</span>\n",
       "    </div>\n"
      ]
     },
     "metadata": {},
     "output_type": "display_data"
    },
    {
     "data": {
      "application/javascript": [
       "(function(root) {\n",
       "  function now() {\n",
       "    return new Date();\n",
       "  }\n",
       "\n",
       "  const force = true;\n",
       "\n",
       "  if (typeof root._bokeh_onload_callbacks === \"undefined\" || force === true) {\n",
       "    root._bokeh_onload_callbacks = [];\n",
       "    root._bokeh_is_loading = undefined;\n",
       "  }\n",
       "\n",
       "const JS_MIME_TYPE = 'application/javascript';\n",
       "  const HTML_MIME_TYPE = 'text/html';\n",
       "  const EXEC_MIME_TYPE = 'application/vnd.bokehjs_exec.v0+json';\n",
       "  const CLASS_NAME = 'output_bokeh rendered_html';\n",
       "\n",
       "  /**\n",
       "   * Render data to the DOM node\n",
       "   */\n",
       "  function render(props, node) {\n",
       "    const script = document.createElement(\"script\");\n",
       "    node.appendChild(script);\n",
       "  }\n",
       "\n",
       "  /**\n",
       "   * Handle when an output is cleared or removed\n",
       "   */\n",
       "  function handleClearOutput(event, handle) {\n",
       "    const cell = handle.cell;\n",
       "\n",
       "    const id = cell.output_area._bokeh_element_id;\n",
       "    const server_id = cell.output_area._bokeh_server_id;\n",
       "    // Clean up Bokeh references\n",
       "    if (id != null && id in Bokeh.index) {\n",
       "      Bokeh.index[id].model.document.clear();\n",
       "      delete Bokeh.index[id];\n",
       "    }\n",
       "\n",
       "    if (server_id !== undefined) {\n",
       "      // Clean up Bokeh references\n",
       "      const cmd_clean = \"from bokeh.io.state import curstate; print(curstate().uuid_to_server['\" + server_id + \"'].get_sessions()[0].document.roots[0]._id)\";\n",
       "      cell.notebook.kernel.execute(cmd_clean, {\n",
       "        iopub: {\n",
       "          output: function(msg) {\n",
       "            const id = msg.content.text.trim();\n",
       "            if (id in Bokeh.index) {\n",
       "              Bokeh.index[id].model.document.clear();\n",
       "              delete Bokeh.index[id];\n",
       "            }\n",
       "          }\n",
       "        }\n",
       "      });\n",
       "      // Destroy server and session\n",
       "      const cmd_destroy = \"import bokeh.io.notebook as ion; ion.destroy_server('\" + server_id + \"')\";\n",
       "      cell.notebook.kernel.execute(cmd_destroy);\n",
       "    }\n",
       "  }\n",
       "\n",
       "  /**\n",
       "   * Handle when a new output is added\n",
       "   */\n",
       "  function handleAddOutput(event, handle) {\n",
       "    const output_area = handle.output_area;\n",
       "    const output = handle.output;\n",
       "\n",
       "    // limit handleAddOutput to display_data with EXEC_MIME_TYPE content only\n",
       "    if ((output.output_type != \"display_data\") || (!Object.prototype.hasOwnProperty.call(output.data, EXEC_MIME_TYPE))) {\n",
       "      return\n",
       "    }\n",
       "\n",
       "    const toinsert = output_area.element.find(\".\" + CLASS_NAME.split(' ')[0]);\n",
       "\n",
       "    if (output.metadata[EXEC_MIME_TYPE][\"id\"] !== undefined) {\n",
       "      toinsert[toinsert.length - 1].firstChild.textContent = output.data[JS_MIME_TYPE];\n",
       "      // store reference to embed id on output_area\n",
       "      output_area._bokeh_element_id = output.metadata[EXEC_MIME_TYPE][\"id\"];\n",
       "    }\n",
       "    if (output.metadata[EXEC_MIME_TYPE][\"server_id\"] !== undefined) {\n",
       "      const bk_div = document.createElement(\"div\");\n",
       "      bk_div.innerHTML = output.data[HTML_MIME_TYPE];\n",
       "      const script_attrs = bk_div.children[0].attributes;\n",
       "      for (let i = 0; i < script_attrs.length; i++) {\n",
       "        toinsert[toinsert.length - 1].firstChild.setAttribute(script_attrs[i].name, script_attrs[i].value);\n",
       "        toinsert[toinsert.length - 1].firstChild.textContent = bk_div.children[0].textContent\n",
       "      }\n",
       "      // store reference to server id on output_area\n",
       "      output_area._bokeh_server_id = output.metadata[EXEC_MIME_TYPE][\"server_id\"];\n",
       "    }\n",
       "  }\n",
       "\n",
       "  function register_renderer(events, OutputArea) {\n",
       "\n",
       "    function append_mime(data, metadata, element) {\n",
       "      // create a DOM node to render to\n",
       "      const toinsert = this.create_output_subarea(\n",
       "        metadata,\n",
       "        CLASS_NAME,\n",
       "        EXEC_MIME_TYPE\n",
       "      );\n",
       "      this.keyboard_manager.register_events(toinsert);\n",
       "      // Render to node\n",
       "      const props = {data: data, metadata: metadata[EXEC_MIME_TYPE]};\n",
       "      render(props, toinsert[toinsert.length - 1]);\n",
       "      element.append(toinsert);\n",
       "      return toinsert\n",
       "    }\n",
       "\n",
       "    /* Handle when an output is cleared or removed */\n",
       "    events.on('clear_output.CodeCell', handleClearOutput);\n",
       "    events.on('delete.Cell', handleClearOutput);\n",
       "\n",
       "    /* Handle when a new output is added */\n",
       "    events.on('output_added.OutputArea', handleAddOutput);\n",
       "\n",
       "    /**\n",
       "     * Register the mime type and append_mime function with output_area\n",
       "     */\n",
       "    OutputArea.prototype.register_mime_type(EXEC_MIME_TYPE, append_mime, {\n",
       "      /* Is output safe? */\n",
       "      safe: true,\n",
       "      /* Index of renderer in `output_area.display_order` */\n",
       "      index: 0\n",
       "    });\n",
       "  }\n",
       "\n",
       "  // register the mime type if in Jupyter Notebook environment and previously unregistered\n",
       "  if (root.Jupyter !== undefined) {\n",
       "    const events = require('base/js/events');\n",
       "    const OutputArea = require('notebook/js/outputarea').OutputArea;\n",
       "\n",
       "    if (OutputArea.prototype.mime_types().indexOf(EXEC_MIME_TYPE) == -1) {\n",
       "      register_renderer(events, OutputArea);\n",
       "    }\n",
       "  }\n",
       "  if (typeof (root._bokeh_timeout) === \"undefined\" || force === true) {\n",
       "    root._bokeh_timeout = Date.now() + 5000;\n",
       "    root._bokeh_failed_load = false;\n",
       "  }\n",
       "\n",
       "  const NB_LOAD_WARNING = {'data': {'text/html':\n",
       "     \"<div style='background-color: #fdd'>\\n\"+\n",
       "     \"<p>\\n\"+\n",
       "     \"BokehJS does not appear to have successfully loaded. If loading BokehJS from CDN, this \\n\"+\n",
       "     \"may be due to a slow or bad network connection. Possible fixes:\\n\"+\n",
       "     \"</p>\\n\"+\n",
       "     \"<ul>\\n\"+\n",
       "     \"<li>re-rerun `output_notebook()` to attempt to load from CDN again, or</li>\\n\"+\n",
       "     \"<li>use INLINE resources instead, as so:</li>\\n\"+\n",
       "     \"</ul>\\n\"+\n",
       "     \"<code>\\n\"+\n",
       "     \"from bokeh.resources import INLINE\\n\"+\n",
       "     \"output_notebook(resources=INLINE)\\n\"+\n",
       "     \"</code>\\n\"+\n",
       "     \"</div>\"}};\n",
       "\n",
       "  function display_loaded() {\n",
       "    const el = document.getElementById(\"1002\");\n",
       "    if (el != null) {\n",
       "      el.textContent = \"BokehJS is loading...\";\n",
       "    }\n",
       "    if (root.Bokeh !== undefined) {\n",
       "      if (el != null) {\n",
       "        el.textContent = \"BokehJS \" + root.Bokeh.version + \" successfully loaded.\";\n",
       "      }\n",
       "    } else if (Date.now() < root._bokeh_timeout) {\n",
       "      setTimeout(display_loaded, 100)\n",
       "    }\n",
       "  }\n",
       "\n",
       "  function run_callbacks() {\n",
       "    try {\n",
       "      root._bokeh_onload_callbacks.forEach(function(callback) {\n",
       "        if (callback != null)\n",
       "          callback();\n",
       "      });\n",
       "    } finally {\n",
       "      delete root._bokeh_onload_callbacks\n",
       "    }\n",
       "    console.debug(\"Bokeh: all callbacks have finished\");\n",
       "  }\n",
       "\n",
       "  function load_libs(css_urls, js_urls, callback) {\n",
       "    if (css_urls == null) css_urls = [];\n",
       "    if (js_urls == null) js_urls = [];\n",
       "\n",
       "    root._bokeh_onload_callbacks.push(callback);\n",
       "    if (root._bokeh_is_loading > 0) {\n",
       "      console.debug(\"Bokeh: BokehJS is being loaded, scheduling callback at\", now());\n",
       "      return null;\n",
       "    }\n",
       "    if (js_urls == null || js_urls.length === 0) {\n",
       "      run_callbacks();\n",
       "      return null;\n",
       "    }\n",
       "    console.debug(\"Bokeh: BokehJS not loaded, scheduling load and callback at\", now());\n",
       "    root._bokeh_is_loading = css_urls.length + js_urls.length;\n",
       "\n",
       "    function on_load() {\n",
       "      root._bokeh_is_loading--;\n",
       "      if (root._bokeh_is_loading === 0) {\n",
       "        console.debug(\"Bokeh: all BokehJS libraries/stylesheets loaded\");\n",
       "        run_callbacks()\n",
       "      }\n",
       "    }\n",
       "\n",
       "    function on_error(url) {\n",
       "      console.error(\"failed to load \" + url);\n",
       "    }\n",
       "\n",
       "    for (let i = 0; i < css_urls.length; i++) {\n",
       "      const url = css_urls[i];\n",
       "      const element = document.createElement(\"link\");\n",
       "      element.onload = on_load;\n",
       "      element.onerror = on_error.bind(null, url);\n",
       "      element.rel = \"stylesheet\";\n",
       "      element.type = \"text/css\";\n",
       "      element.href = url;\n",
       "      console.debug(\"Bokeh: injecting link tag for BokehJS stylesheet: \", url);\n",
       "      document.body.appendChild(element);\n",
       "    }\n",
       "\n",
       "    for (let i = 0; i < js_urls.length; i++) {\n",
       "      const url = js_urls[i];\n",
       "      const element = document.createElement('script');\n",
       "      element.onload = on_load;\n",
       "      element.onerror = on_error.bind(null, url);\n",
       "      element.async = false;\n",
       "      element.src = url;\n",
       "      console.debug(\"Bokeh: injecting script tag for BokehJS library: \", url);\n",
       "      document.head.appendChild(element);\n",
       "    }\n",
       "  };\n",
       "\n",
       "  function inject_raw_css(css) {\n",
       "    const element = document.createElement(\"style\");\n",
       "    element.appendChild(document.createTextNode(css));\n",
       "    document.body.appendChild(element);\n",
       "  }\n",
       "\n",
       "  const js_urls = [\"https://cdn.bokeh.org/bokeh/release/bokeh-2.4.3.min.js\", \"https://cdn.bokeh.org/bokeh/release/bokeh-gl-2.4.3.min.js\", \"https://cdn.bokeh.org/bokeh/release/bokeh-widgets-2.4.3.min.js\", \"https://cdn.bokeh.org/bokeh/release/bokeh-tables-2.4.3.min.js\", \"https://cdn.bokeh.org/bokeh/release/bokeh-mathjax-2.4.3.min.js\"];\n",
       "  const css_urls = [];\n",
       "\n",
       "  const inline_js = [    function(Bokeh) {\n",
       "      Bokeh.set_log_level(\"info\");\n",
       "    },\n",
       "function(Bokeh) {\n",
       "    }\n",
       "  ];\n",
       "\n",
       "  function run_inline_js() {\n",
       "    if (root.Bokeh !== undefined || force === true) {\n",
       "          for (let i = 0; i < inline_js.length; i++) {\n",
       "      inline_js[i].call(root, root.Bokeh);\n",
       "    }\n",
       "if (force === true) {\n",
       "        display_loaded();\n",
       "      }} else if (Date.now() < root._bokeh_timeout) {\n",
       "      setTimeout(run_inline_js, 100);\n",
       "    } else if (!root._bokeh_failed_load) {\n",
       "      console.log(\"Bokeh: BokehJS failed to load within specified timeout.\");\n",
       "      root._bokeh_failed_load = true;\n",
       "    } else if (force !== true) {\n",
       "      const cell = $(document.getElementById(\"1002\")).parents('.cell').data().cell;\n",
       "      cell.output_area.append_execute_result(NB_LOAD_WARNING)\n",
       "    }\n",
       "  }\n",
       "\n",
       "  if (root._bokeh_is_loading === 0) {\n",
       "    console.debug(\"Bokeh: BokehJS loaded, going straight to plotting\");\n",
       "    run_inline_js();\n",
       "  } else {\n",
       "    load_libs(css_urls, js_urls, function() {\n",
       "      console.debug(\"Bokeh: BokehJS plotting callback run at\", now());\n",
       "      run_inline_js();\n",
       "    });\n",
       "  }\n",
       "}(window));"
      ],
      "application/vnd.bokehjs_load.v0+json": "(function(root) {\n  function now() {\n    return new Date();\n  }\n\n  const force = true;\n\n  if (typeof root._bokeh_onload_callbacks === \"undefined\" || force === true) {\n    root._bokeh_onload_callbacks = [];\n    root._bokeh_is_loading = undefined;\n  }\n\n\n  if (typeof (root._bokeh_timeout) === \"undefined\" || force === true) {\n    root._bokeh_timeout = Date.now() + 5000;\n    root._bokeh_failed_load = false;\n  }\n\n  const NB_LOAD_WARNING = {'data': {'text/html':\n     \"<div style='background-color: #fdd'>\\n\"+\n     \"<p>\\n\"+\n     \"BokehJS does not appear to have successfully loaded. If loading BokehJS from CDN, this \\n\"+\n     \"may be due to a slow or bad network connection. Possible fixes:\\n\"+\n     \"</p>\\n\"+\n     \"<ul>\\n\"+\n     \"<li>re-rerun `output_notebook()` to attempt to load from CDN again, or</li>\\n\"+\n     \"<li>use INLINE resources instead, as so:</li>\\n\"+\n     \"</ul>\\n\"+\n     \"<code>\\n\"+\n     \"from bokeh.resources import INLINE\\n\"+\n     \"output_notebook(resources=INLINE)\\n\"+\n     \"</code>\\n\"+\n     \"</div>\"}};\n\n  function display_loaded() {\n    const el = document.getElementById(\"1002\");\n    if (el != null) {\n      el.textContent = \"BokehJS is loading...\";\n    }\n    if (root.Bokeh !== undefined) {\n      if (el != null) {\n        el.textContent = \"BokehJS \" + root.Bokeh.version + \" successfully loaded.\";\n      }\n    } else if (Date.now() < root._bokeh_timeout) {\n      setTimeout(display_loaded, 100)\n    }\n  }\n\n  function run_callbacks() {\n    try {\n      root._bokeh_onload_callbacks.forEach(function(callback) {\n        if (callback != null)\n          callback();\n      });\n    } finally {\n      delete root._bokeh_onload_callbacks\n    }\n    console.debug(\"Bokeh: all callbacks have finished\");\n  }\n\n  function load_libs(css_urls, js_urls, callback) {\n    if (css_urls == null) css_urls = [];\n    if (js_urls == null) js_urls = [];\n\n    root._bokeh_onload_callbacks.push(callback);\n    if (root._bokeh_is_loading > 0) {\n      console.debug(\"Bokeh: BokehJS is being loaded, scheduling callback at\", now());\n      return null;\n    }\n    if (js_urls == null || js_urls.length === 0) {\n      run_callbacks();\n      return null;\n    }\n    console.debug(\"Bokeh: BokehJS not loaded, scheduling load and callback at\", now());\n    root._bokeh_is_loading = css_urls.length + js_urls.length;\n\n    function on_load() {\n      root._bokeh_is_loading--;\n      if (root._bokeh_is_loading === 0) {\n        console.debug(\"Bokeh: all BokehJS libraries/stylesheets loaded\");\n        run_callbacks()\n      }\n    }\n\n    function on_error(url) {\n      console.error(\"failed to load \" + url);\n    }\n\n    for (let i = 0; i < css_urls.length; i++) {\n      const url = css_urls[i];\n      const element = document.createElement(\"link\");\n      element.onload = on_load;\n      element.onerror = on_error.bind(null, url);\n      element.rel = \"stylesheet\";\n      element.type = \"text/css\";\n      element.href = url;\n      console.debug(\"Bokeh: injecting link tag for BokehJS stylesheet: \", url);\n      document.body.appendChild(element);\n    }\n\n    for (let i = 0; i < js_urls.length; i++) {\n      const url = js_urls[i];\n      const element = document.createElement('script');\n      element.onload = on_load;\n      element.onerror = on_error.bind(null, url);\n      element.async = false;\n      element.src = url;\n      console.debug(\"Bokeh: injecting script tag for BokehJS library: \", url);\n      document.head.appendChild(element);\n    }\n  };\n\n  function inject_raw_css(css) {\n    const element = document.createElement(\"style\");\n    element.appendChild(document.createTextNode(css));\n    document.body.appendChild(element);\n  }\n\n  const js_urls = [\"https://cdn.bokeh.org/bokeh/release/bokeh-2.4.3.min.js\", \"https://cdn.bokeh.org/bokeh/release/bokeh-gl-2.4.3.min.js\", \"https://cdn.bokeh.org/bokeh/release/bokeh-widgets-2.4.3.min.js\", \"https://cdn.bokeh.org/bokeh/release/bokeh-tables-2.4.3.min.js\", \"https://cdn.bokeh.org/bokeh/release/bokeh-mathjax-2.4.3.min.js\"];\n  const css_urls = [];\n\n  const inline_js = [    function(Bokeh) {\n      Bokeh.set_log_level(\"info\");\n    },\nfunction(Bokeh) {\n    }\n  ];\n\n  function run_inline_js() {\n    if (root.Bokeh !== undefined || force === true) {\n          for (let i = 0; i < inline_js.length; i++) {\n      inline_js[i].call(root, root.Bokeh);\n    }\nif (force === true) {\n        display_loaded();\n      }} else if (Date.now() < root._bokeh_timeout) {\n      setTimeout(run_inline_js, 100);\n    } else if (!root._bokeh_failed_load) {\n      console.log(\"Bokeh: BokehJS failed to load within specified timeout.\");\n      root._bokeh_failed_load = true;\n    } else if (force !== true) {\n      const cell = $(document.getElementById(\"1002\")).parents('.cell').data().cell;\n      cell.output_area.append_execute_result(NB_LOAD_WARNING)\n    }\n  }\n\n  if (root._bokeh_is_loading === 0) {\n    console.debug(\"Bokeh: BokehJS loaded, going straight to plotting\");\n    run_inline_js();\n  } else {\n    load_libs(css_urls, js_urls, function() {\n      console.debug(\"Bokeh: BokehJS plotting callback run at\", now());\n      run_inline_js();\n    });\n  }\n}(window));"
     },
     "metadata": {},
     "output_type": "display_data"
    }
   ],
   "source": [
    "from bokeh.io import output_notebook\n",
    "import bokeh.plotting as plt\n",
    "\n",
    "output_notebook()  # skip this line if not working in Jupyter"
   ]
  },
  {
   "cell_type": "markdown",
   "metadata": {},
   "source": [
    "Here we plot y = sin(x) vs x:"
   ]
  },
  {
   "cell_type": "code",
   "execution_count": 82,
   "metadata": {
    "execution": {
     "iopub.execute_input": "2024-03-22T10:49:59.197083Z",
     "iopub.status.busy": "2024-03-22T10:49:59.196688Z",
     "iopub.status.idle": "2024-03-22T10:49:59.227048Z",
     "shell.execute_reply": "2024-03-22T10:49:59.226511Z"
    }
   },
   "outputs": [
    {
     "data": {
      "text/html": [
       "\n",
       "  <div class=\"bk-root\" id=\"510dcb5e-1f26-4f97-adf9-c5f5d1d61ed9\" data-root-id=\"1003\"></div>\n"
      ]
     },
     "metadata": {},
     "output_type": "display_data"
    },
    {
     "data": {
      "application/javascript": [
       "(function(root) {\n",
       "  function embed_document(root) {\n",
       "  const docs_json = {\"baab1fec-e24b-45b8-97c8-223d712b1273\":{\"defs\":[],\"roots\":{\"references\":[{\"attributes\":{\"below\":[{\"id\":\"1012\"}],\"center\":[{\"id\":\"1015\"},{\"id\":\"1019\"}],\"left\":[{\"id\":\"1016\"}],\"renderers\":[{\"id\":\"1038\"}],\"title\":{\"id\":\"1040\"},\"toolbar\":{\"id\":\"1027\"},\"x_range\":{\"id\":\"1004\"},\"x_scale\":{\"id\":\"1008\"},\"y_range\":{\"id\":\"1006\"},\"y_scale\":{\"id\":\"1010\"}},\"id\":\"1003\",\"subtype\":\"Figure\",\"type\":\"Plot\"},{\"attributes\":{\"line_alpha\":0.2,\"line_color\":\"#1f77b4\",\"line_width\":2,\"x\":{\"field\":\"x\"},\"y\":{\"field\":\"y\"}},\"id\":\"1037\",\"type\":\"Line\"},{\"attributes\":{},\"id\":\"1043\",\"type\":\"BasicTickFormatter\"},{\"attributes\":{\"coordinates\":null,\"group\":null},\"id\":\"1040\",\"type\":\"Title\"},{\"attributes\":{\"data\":{\"x\":{\"__ndarray__\":\"AAAAAAAAAAAvupcDFyrFPy+6lwMXKtU/RpdjhSK/3z8vupcDFyrlP7uofcScdOo/RpdjhSK/7z/pwiQj1ITyPy+6lwMXKvU/dbEK5FnP9z+7qH3EnHT6PwGg8KTfGf0/RpdjhSK//z9GR+uyMjIBQOnCJCPUhAJAjD5ek3XXA0AvupcDFyoFQNI10XO4fAZAdbEK5FnPB0AYLURU+yEJQA==\",\"dtype\":\"float64\",\"order\":\"little\",\"shape\":[20]},\"y\":{\"__ndarray__\":\"AAAAAAAAAADFWC1/bxHFP6nPUEjgx9Q/7XvtDex13j8jRDlroafjPw8+594Mi+c/5D2uWhHK6j8ICxHdA07tPxgu3rRTBe8/qkKlKQXk7z+qQqUpBeTvPxgu3rRTBe8/CQsR3QNO7T/lPa5aEcrqPxE+594Mi+c/JEQ5a6Gn4z/we+0N7HXeP6zPUEjgx9Q/ylgtf28RxT8HXBQzJqahPA==\",\"dtype\":\"float64\",\"order\":\"little\",\"shape\":[20]}},\"selected\":{\"id\":\"1049\"},\"selection_policy\":{\"id\":\"1048\"}},\"id\":\"1034\",\"type\":\"ColumnDataSource\"},{\"attributes\":{\"bottom_units\":\"screen\",\"coordinates\":null,\"fill_alpha\":0.5,\"fill_color\":\"lightgrey\",\"group\":null,\"left_units\":\"screen\",\"level\":\"overlay\",\"line_alpha\":1.0,\"line_color\":\"black\",\"line_dash\":[4,4],\"line_width\":2,\"right_units\":\"screen\",\"syncable\":false,\"top_units\":\"screen\"},\"id\":\"1026\",\"type\":\"BoxAnnotation\"},{\"attributes\":{},\"id\":\"1048\",\"type\":\"UnionRenderers\"},{\"attributes\":{\"axis\":{\"id\":\"1012\"},\"coordinates\":null,\"group\":null,\"ticker\":null},\"id\":\"1015\",\"type\":\"Grid\"},{\"attributes\":{},\"id\":\"1008\",\"type\":\"LinearScale\"},{\"attributes\":{},\"id\":\"1020\",\"type\":\"PanTool\"},{\"attributes\":{},\"id\":\"1013\",\"type\":\"BasicTicker\"},{\"attributes\":{},\"id\":\"1046\",\"type\":\"BasicTickFormatter\"},{\"attributes\":{},\"id\":\"1021\",\"type\":\"WheelZoomTool\"},{\"attributes\":{},\"id\":\"1010\",\"type\":\"LinearScale\"},{\"attributes\":{\"axis_label\":\"sin(x)\",\"coordinates\":null,\"formatter\":{\"id\":\"1043\"},\"group\":null,\"major_label_policy\":{\"id\":\"1044\"},\"ticker\":{\"id\":\"1017\"}},\"id\":\"1016\",\"type\":\"LinearAxis\"},{\"attributes\":{},\"id\":\"1044\",\"type\":\"AllLabels\"},{\"attributes\":{\"source\":{\"id\":\"1034\"}},\"id\":\"1039\",\"type\":\"CDSView\"},{\"attributes\":{\"overlay\":{\"id\":\"1026\"}},\"id\":\"1022\",\"type\":\"BoxZoomTool\"},{\"attributes\":{},\"id\":\"1017\",\"type\":\"BasicTicker\"},{\"attributes\":{\"coordinates\":null,\"data_source\":{\"id\":\"1034\"},\"glyph\":{\"id\":\"1035\"},\"group\":null,\"hover_glyph\":null,\"muted_glyph\":{\"id\":\"1037\"},\"nonselection_glyph\":{\"id\":\"1036\"},\"view\":{\"id\":\"1039\"}},\"id\":\"1038\",\"type\":\"GlyphRenderer\"},{\"attributes\":{\"line_color\":\"#1f77b4\",\"line_width\":2,\"x\":{\"field\":\"x\"},\"y\":{\"field\":\"y\"}},\"id\":\"1035\",\"type\":\"Line\"},{\"attributes\":{},\"id\":\"1023\",\"type\":\"SaveTool\"},{\"attributes\":{},\"id\":\"1047\",\"type\":\"AllLabels\"},{\"attributes\":{},\"id\":\"1004\",\"type\":\"DataRange1d\"},{\"attributes\":{\"line_alpha\":0.1,\"line_color\":\"#1f77b4\",\"line_width\":2,\"x\":{\"field\":\"x\"},\"y\":{\"field\":\"y\"}},\"id\":\"1036\",\"type\":\"Line\"},{\"attributes\":{\"axis_label\":\"x\",\"coordinates\":null,\"formatter\":{\"id\":\"1046\"},\"group\":null,\"major_label_policy\":{\"id\":\"1047\"},\"ticker\":{\"id\":\"1013\"}},\"id\":\"1012\",\"type\":\"LinearAxis\"},{\"attributes\":{\"tools\":[{\"id\":\"1020\"},{\"id\":\"1021\"},{\"id\":\"1022\"},{\"id\":\"1023\"},{\"id\":\"1024\"},{\"id\":\"1025\"}]},\"id\":\"1027\",\"type\":\"Toolbar\"},{\"attributes\":{},\"id\":\"1024\",\"type\":\"ResetTool\"},{\"attributes\":{},\"id\":\"1006\",\"type\":\"DataRange1d\"},{\"attributes\":{\"axis\":{\"id\":\"1016\"},\"coordinates\":null,\"dimension\":1,\"group\":null,\"ticker\":null},\"id\":\"1019\",\"type\":\"Grid\"},{\"attributes\":{},\"id\":\"1025\",\"type\":\"HelpTool\"},{\"attributes\":{},\"id\":\"1049\",\"type\":\"Selection\"}],\"root_ids\":[\"1003\"]},\"title\":\"Bokeh Application\",\"version\":\"2.4.3\"}};\n",
       "  const render_items = [{\"docid\":\"baab1fec-e24b-45b8-97c8-223d712b1273\",\"root_ids\":[\"1003\"],\"roots\":{\"1003\":\"510dcb5e-1f26-4f97-adf9-c5f5d1d61ed9\"}}];\n",
       "  root.Bokeh.embed.embed_items_notebook(docs_json, render_items);\n",
       "  }\n",
       "  if (root.Bokeh !== undefined) {\n",
       "    embed_document(root);\n",
       "  } else {\n",
       "    let attempts = 0;\n",
       "    const timer = setInterval(function(root) {\n",
       "      if (root.Bokeh !== undefined) {\n",
       "        clearInterval(timer);\n",
       "        embed_document(root);\n",
       "      } else {\n",
       "        attempts++;\n",
       "        if (attempts > 100) {\n",
       "          clearInterval(timer);\n",
       "          console.log(\"Bokeh: ERROR: Unable to run BokehJS code because BokehJS library is missing\");\n",
       "        }\n",
       "      }\n",
       "    }, 10, root)\n",
       "  }\n",
       "})(window);"
      ],
      "application/vnd.bokehjs_exec.v0+json": ""
     },
     "metadata": {
      "application/vnd.bokehjs_exec.v0+json": {
       "id": "1003"
      }
     },
     "output_type": "display_data"
    }
   ],
   "source": [
    "f = plt.figure(x_axis_label=\"x\", y_axis_label=\"sin(x)\")\n",
    "f.line(x, y, line_width=2)\n",
    "plt.show(f)"
   ]
  },
  {
   "cell_type": "markdown",
   "metadata": {},
   "source": [
    "## Pickling objects"
   ]
  },
  {
   "cell_type": "markdown",
   "metadata": {},
   "source": [
    "There are various file io operations in Python, but one of the easiest is “<a class=\"reference external\" href=\"https://docs.python.org/3/library/pickle.html#module-pickle\" title=\"(in Python v3.6)\"><code class=\"xref py py-mod docutils literal\"><span class=\"pre\">Pickling</span></code></a>”, which attempts to save a Python object to a file for later restoration with the load command."
   ]
  },
  {
   "cell_type": "code",
   "execution_count": 83,
   "metadata": {
    "execution": {
     "iopub.execute_input": "2024-03-22T10:49:59.229534Z",
     "iopub.status.busy": "2024-03-22T10:49:59.229353Z",
     "iopub.status.idle": "2024-03-22T10:49:59.233724Z",
     "shell.execute_reply": "2024-03-22T10:49:59.233276Z"
    }
   },
   "outputs": [
    {
     "name": "stdout",
     "output_type": "stream",
     "text": [
      "Contact info: Joe someone@somewhere.com\n",
      "Contact info: Bob Smith\n"
     ]
    }
   ],
   "source": [
    "import pickle\n",
    "\n",
    "contacts = [joe, bob]  # Make a list of contacts\n",
    "\n",
    "with open(\"contacts.p\", \"wb\") as pickle_file:  # Make a new file\n",
    "    pickle.dump(contacts, pickle_file)  # Write contact list\n",
    "\n",
    "with open(\"contacts.p\", \"rb\") as pickle_file:  # Open the file for reading\n",
    "    contacts2 = pickle.load(pickle_file)  # Load the pickled contents\n",
    "\n",
    "for elem in contacts2:\n",
    "    elem.print_info()"
   ]
  },
  {
   "cell_type": "markdown",
   "metadata": {},
   "source": [
    "The next part of this tutorial introduces basic NEURON commands."
   ]
  },
  {
   "cell_type": "code",
   "execution_count": null,
   "metadata": {},
   "outputs": [],
   "source": []
  }
 ],
 "metadata": {
  "language_info": {
   "codemirror_mode": {
    "name": "ipython",
    "version": 3
   },
   "file_extension": ".py",
   "mimetype": "text/x-python",
   "name": "python",
   "nbconvert_exporter": "python",
   "pygments_lexer": "ipython3",
   "version": "3.11.8"
  }
 },
 "nbformat": 4,
 "nbformat_minor": 2
}
